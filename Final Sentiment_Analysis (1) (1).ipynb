{
  "nbformat": 4,
  "nbformat_minor": 0,
  "metadata": {
    "colab": {
      "provenance": []
    },
    "kernelspec": {
      "name": "python3",
      "display_name": "Python 3"
    },
    "language_info": {
      "name": "python"
    },
    "gpuClass": "standard",
    "accelerator": "GPU"
  },
  "cells": [
    {
      "cell_type": "code",
      "execution_count": 1,
      "metadata": {
        "id": "wlhlvGIib5V8"
      },
      "outputs": [],
      "source": [
        "import pandas as pd\n",
        "import numpy as np\n",
        "import matplotlib.pyplot as plt"
      ]
    },
    {
      "cell_type": "code",
      "source": [
        "#Web Scraping\n",
        "! pip install google-play-scraper"
      ],
      "metadata": {
        "colab": {
          "base_uri": "https://localhost:8080/"
        },
        "id": "EvEn_aEzcZHh",
        "outputId": "f3d7cf76-583d-4905-ca8b-48ae1e0d8f6a"
      },
      "execution_count": 2,
      "outputs": [
        {
          "output_type": "stream",
          "name": "stdout",
          "text": [
            "Looking in indexes: https://pypi.org/simple, https://us-python.pkg.dev/colab-wheels/public/simple/\n",
            "Collecting google-play-scraper\n",
            "  Downloading google_play_scraper-1.2.2-py3-none-any.whl (28 kB)\n",
            "Installing collected packages: google-play-scraper\n",
            "Successfully installed google-play-scraper-1.2.2\n"
          ]
        }
      ]
    },
    {
      "cell_type": "code",
      "source": [
        "from google_play_scraper import Sort, reviews_all"
      ],
      "metadata": {
        "id": "liECeqsUccrO"
      },
      "execution_count": 3,
      "outputs": []
    },
    {
      "cell_type": "code",
      "source": [
        "result = reviews_all(\n",
        "    'com.amazon.mShop.android.shopping',\n",
        "    sleep_milliseconds=0.010, # defaults to 0\n",
        "    lang='en', # defaults to 'en'\n",
        "    country='us', # defaults to 'us'\n",
        "    sort=Sort.MOST_RELEVANT, # defaults to Sort.MOST_RELEVANT\n",
        "    filter_score_with= None # defaults to None(means all score)\n",
        ")\n",
        "\n",
        "result = pd.DataFrame(result)\n",
        "\n",
        "amazon_ps = pd.DataFrame()\n",
        "amazon_ps['reviews']=result['content']\n",
        "amazon_ps['score']= result['score']"
      ],
      "metadata": {
        "id": "P_5TgAEwciiU"
      },
      "execution_count": 4,
      "outputs": []
    },
    {
      "cell_type": "code",
      "source": [
        "## App Store Scraper"
      ],
      "metadata": {
        "id": "p7rHwulo_079"
      },
      "execution_count": 5,
      "outputs": []
    },
    {
      "cell_type": "code",
      "source": [
        "! pip install app-store-scraper"
      ],
      "metadata": {
        "id": "wHqLunqIcloz",
        "colab": {
          "base_uri": "https://localhost:8080/"
        },
        "outputId": "82687a6b-fc97-4496-e04f-481cdc36424d"
      },
      "execution_count": 6,
      "outputs": [
        {
          "output_type": "stream",
          "name": "stdout",
          "text": [
            "Looking in indexes: https://pypi.org/simple, https://us-python.pkg.dev/colab-wheels/public/simple/\n",
            "Collecting app-store-scraper\n",
            "  Downloading app_store_scraper-0.3.5-py3-none-any.whl (8.3 kB)\n",
            "Collecting requests==2.23.0\n",
            "  Downloading requests-2.23.0-py2.py3-none-any.whl (58 kB)\n",
            "\u001b[2K     \u001b[90m━━━━━━━━━━━━━━━━━━━━━━━━━━━━━━━━━━━━━━━━\u001b[0m \u001b[32m58.4/58.4 KB\u001b[0m \u001b[31m2.7 MB/s\u001b[0m eta \u001b[36m0:00:00\u001b[0m\n",
            "\u001b[?25hCollecting chardet<4,>=3.0.2\n",
            "  Downloading chardet-3.0.4-py2.py3-none-any.whl (133 kB)\n",
            "\u001b[2K     \u001b[90m━━━━━━━━━━━━━━━━━━━━━━━━━━━━━━━━━━━━━━\u001b[0m \u001b[32m133.4/133.4 KB\u001b[0m \u001b[31m13.6 MB/s\u001b[0m eta \u001b[36m0:00:00\u001b[0m\n",
            "\u001b[?25hRequirement already satisfied: certifi>=2017.4.17 in /usr/local/lib/python3.8/dist-packages (from requests==2.23.0->app-store-scraper) (2022.12.7)\n",
            "Requirement already satisfied: idna<3,>=2.5 in /usr/local/lib/python3.8/dist-packages (from requests==2.23.0->app-store-scraper) (2.10)\n",
            "Requirement already satisfied: urllib3!=1.25.0,!=1.25.1,<1.26,>=1.21.1 in /usr/local/lib/python3.8/dist-packages (from requests==2.23.0->app-store-scraper) (1.24.3)\n",
            "Installing collected packages: chardet, requests, app-store-scraper\n",
            "  Attempting uninstall: chardet\n",
            "    Found existing installation: chardet 4.0.0\n",
            "    Uninstalling chardet-4.0.0:\n",
            "      Successfully uninstalled chardet-4.0.0\n",
            "  Attempting uninstall: requests\n",
            "    Found existing installation: requests 2.25.1\n",
            "    Uninstalling requests-2.25.1:\n",
            "      Successfully uninstalled requests-2.25.1\n",
            "\u001b[31mERROR: pip's dependency resolver does not currently take into account all the packages that are installed. This behaviour is the source of the following dependency conflicts.\n",
            "google-colab 1.0.0 requires requests>=2.25.1, but you have requests 2.23.0 which is incompatible.\u001b[0m\u001b[31m\n",
            "\u001b[0mSuccessfully installed app-store-scraper-0.3.5 chardet-3.0.4 requests-2.23.0\n"
          ]
        }
      ]
    },
    {
      "cell_type": "code",
      "source": [
        "from app_store_scraper import AppStore"
      ],
      "metadata": {
        "id": "VxRpj_HdhY5w"
      },
      "execution_count": 7,
      "outputs": []
    },
    {
      "cell_type": "code",
      "source": [
        "amazon = AppStore(country='us', app_name='amazon', app_id=297606951)\n",
        "results = amazon.review(sleep=0.010)\n",
        "\n",
        "results = pd.DataFrame(amazon.reviews)\n",
        "\n",
        "amazon_as = pd.DataFrame()\n",
        "amazon_as['reviews'] = results['review']\n",
        "amazon_as['score'] = results['rating']"
      ],
      "metadata": {
        "id": "wdI8S-xdhewV",
        "colab": {
          "base_uri": "https://localhost:8080/"
        },
        "outputId": "d67d2494-a2d4-444b-d002-503b47a6bf2b"
      },
      "execution_count": 9,
      "outputs": [
        {
          "output_type": "stream",
          "name": "stderr",
          "text": [
            "ERROR:Base:Something went wrong: HTTPSConnectionPool(host='amp-api.apps.apple.com', port=443): Max retries exceeded with url: /v1/catalog/us/apps/297606951/reviews?l=en-GB&offset=2000&limit=20&platform=web&additionalPlatforms=appletv%2Cipad%2Ciphone%2Cmac (Caused by ResponseError('too many 429 error responses'))\n"
          ]
        }
      ]
    },
    {
      "cell_type": "code",
      "source": [
        "# PlayStore\n",
        "print(' Play Store')\n",
        "print(\"Amazon - \",amazon_ps.shape[0])\n",
        "\n",
        "# Apple Store\n",
        "print('\\n','Apple store')\n",
        "print(\"Amazon - \",amazon_as.shape[0])"
      ],
      "metadata": {
        "id": "nwYPbuQMhiAI",
        "colab": {
          "base_uri": "https://localhost:8080/"
        },
        "outputId": "354ebe05-07d5-4fe7-9d9c-76e21823a931"
      },
      "execution_count": 10,
      "outputs": [
        {
          "output_type": "stream",
          "name": "stdout",
          "text": [
            " Play Store\n",
            "Amazon -  113032\n",
            "\n",
            " Apple store\n",
            "Amazon -  2000\n"
          ]
        }
      ]
    },
    {
      "cell_type": "code",
      "source": [
        "# Append\n",
        "df = amazon_ps.append(amazon_as)"
      ],
      "metadata": {
        "id": "yi14-lfyh2I5"
      },
      "execution_count": 11,
      "outputs": []
    },
    {
      "cell_type": "code",
      "source": [
        "print(\"Amazon - \",(f\"{df.shape[0]:,}\"))"
      ],
      "metadata": {
        "id": "jX0iYlVsh7UU",
        "colab": {
          "base_uri": "https://localhost:8080/"
        },
        "outputId": "918f09cf-8603-402b-ff0a-cb0acb48fadc"
      },
      "execution_count": 12,
      "outputs": [
        {
          "output_type": "stream",
          "name": "stdout",
          "text": [
            "Amazon -  115,032\n"
          ]
        }
      ]
    },
    {
      "cell_type": "code",
      "source": [
        "df.info()"
      ],
      "metadata": {
        "id": "sdTCLX-Oh-qf",
        "colab": {
          "base_uri": "https://localhost:8080/"
        },
        "outputId": "ecbfd209-c57e-4561-d687-02d5174a8632"
      },
      "execution_count": 13,
      "outputs": [
        {
          "output_type": "stream",
          "name": "stdout",
          "text": [
            "<class 'pandas.core.frame.DataFrame'>\n",
            "Int64Index: 115032 entries, 0 to 1999\n",
            "Data columns (total 2 columns):\n",
            " #   Column   Non-Null Count   Dtype \n",
            "---  ------   --------------   ----- \n",
            " 0   reviews  115032 non-null  object\n",
            " 1   score    115032 non-null  int64 \n",
            "dtypes: int64(1), object(1)\n",
            "memory usage: 2.6+ MB\n"
          ]
        }
      ]
    },
    {
      "cell_type": "code",
      "source": [
        "df.head(100)"
      ],
      "metadata": {
        "id": "cm6MkmZ9iCdF",
        "colab": {
          "base_uri": "https://localhost:8080/",
          "height": 424
        },
        "outputId": "d9dbacf0-441b-4436-eda8-0bf8a91038d0"
      },
      "execution_count": 14,
      "outputs": [
        {
          "output_type": "execute_result",
          "data": {
            "text/plain": [
              "                                              reviews  score\n",
              "0   N'ver mind, I'll just walk the 20 miles to the...      2\n",
              "1   Amazon used to be the place for quick deliveri...      2\n",
              "2   It's been a while since I've been using this a...      5\n",
              "3   It's difficult to find what I'm looking for. T...      1\n",
              "4   Stale app. Sadly, does not support dark mode. ...      1\n",
              "..                                                ...    ...\n",
              "95  Has become impossible to search for items. Sea...      2\n",
              "96  For swiss People, it's almost impossible to se...      1\n",
              "97  Super annoyed. Since the last update I cannot ...      2\n",
              "98  I love using Amazon for Prime and other things...      1\n",
              "99  The app has gotten frustrating. Instead of get...      2\n",
              "\n",
              "[100 rows x 2 columns]"
            ],
            "text/html": [
              "\n",
              "  <div id=\"df-9f103d60-43cd-4e8a-8274-18388ebf2eb9\">\n",
              "    <div class=\"colab-df-container\">\n",
              "      <div>\n",
              "<style scoped>\n",
              "    .dataframe tbody tr th:only-of-type {\n",
              "        vertical-align: middle;\n",
              "    }\n",
              "\n",
              "    .dataframe tbody tr th {\n",
              "        vertical-align: top;\n",
              "    }\n",
              "\n",
              "    .dataframe thead th {\n",
              "        text-align: right;\n",
              "    }\n",
              "</style>\n",
              "<table border=\"1\" class=\"dataframe\">\n",
              "  <thead>\n",
              "    <tr style=\"text-align: right;\">\n",
              "      <th></th>\n",
              "      <th>reviews</th>\n",
              "      <th>score</th>\n",
              "    </tr>\n",
              "  </thead>\n",
              "  <tbody>\n",
              "    <tr>\n",
              "      <th>0</th>\n",
              "      <td>N'ver mind, I'll just walk the 20 miles to the...</td>\n",
              "      <td>2</td>\n",
              "    </tr>\n",
              "    <tr>\n",
              "      <th>1</th>\n",
              "      <td>Amazon used to be the place for quick deliveri...</td>\n",
              "      <td>2</td>\n",
              "    </tr>\n",
              "    <tr>\n",
              "      <th>2</th>\n",
              "      <td>It's been a while since I've been using this a...</td>\n",
              "      <td>5</td>\n",
              "    </tr>\n",
              "    <tr>\n",
              "      <th>3</th>\n",
              "      <td>It's difficult to find what I'm looking for. T...</td>\n",
              "      <td>1</td>\n",
              "    </tr>\n",
              "    <tr>\n",
              "      <th>4</th>\n",
              "      <td>Stale app. Sadly, does not support dark mode. ...</td>\n",
              "      <td>1</td>\n",
              "    </tr>\n",
              "    <tr>\n",
              "      <th>...</th>\n",
              "      <td>...</td>\n",
              "      <td>...</td>\n",
              "    </tr>\n",
              "    <tr>\n",
              "      <th>95</th>\n",
              "      <td>Has become impossible to search for items. Sea...</td>\n",
              "      <td>2</td>\n",
              "    </tr>\n",
              "    <tr>\n",
              "      <th>96</th>\n",
              "      <td>For swiss People, it's almost impossible to se...</td>\n",
              "      <td>1</td>\n",
              "    </tr>\n",
              "    <tr>\n",
              "      <th>97</th>\n",
              "      <td>Super annoyed. Since the last update I cannot ...</td>\n",
              "      <td>2</td>\n",
              "    </tr>\n",
              "    <tr>\n",
              "      <th>98</th>\n",
              "      <td>I love using Amazon for Prime and other things...</td>\n",
              "      <td>1</td>\n",
              "    </tr>\n",
              "    <tr>\n",
              "      <th>99</th>\n",
              "      <td>The app has gotten frustrating. Instead of get...</td>\n",
              "      <td>2</td>\n",
              "    </tr>\n",
              "  </tbody>\n",
              "</table>\n",
              "<p>100 rows × 2 columns</p>\n",
              "</div>\n",
              "      <button class=\"colab-df-convert\" onclick=\"convertToInteractive('df-9f103d60-43cd-4e8a-8274-18388ebf2eb9')\"\n",
              "              title=\"Convert this dataframe to an interactive table.\"\n",
              "              style=\"display:none;\">\n",
              "        \n",
              "  <svg xmlns=\"http://www.w3.org/2000/svg\" height=\"24px\"viewBox=\"0 0 24 24\"\n",
              "       width=\"24px\">\n",
              "    <path d=\"M0 0h24v24H0V0z\" fill=\"none\"/>\n",
              "    <path d=\"M18.56 5.44l.94 2.06.94-2.06 2.06-.94-2.06-.94-.94-2.06-.94 2.06-2.06.94zm-11 1L8.5 8.5l.94-2.06 2.06-.94-2.06-.94L8.5 2.5l-.94 2.06-2.06.94zm10 10l.94 2.06.94-2.06 2.06-.94-2.06-.94-.94-2.06-.94 2.06-2.06.94z\"/><path d=\"M17.41 7.96l-1.37-1.37c-.4-.4-.92-.59-1.43-.59-.52 0-1.04.2-1.43.59L10.3 9.45l-7.72 7.72c-.78.78-.78 2.05 0 2.83L4 21.41c.39.39.9.59 1.41.59.51 0 1.02-.2 1.41-.59l7.78-7.78 2.81-2.81c.8-.78.8-2.07 0-2.86zM5.41 20L4 18.59l7.72-7.72 1.47 1.35L5.41 20z\"/>\n",
              "  </svg>\n",
              "      </button>\n",
              "      \n",
              "  <style>\n",
              "    .colab-df-container {\n",
              "      display:flex;\n",
              "      flex-wrap:wrap;\n",
              "      gap: 12px;\n",
              "    }\n",
              "\n",
              "    .colab-df-convert {\n",
              "      background-color: #E8F0FE;\n",
              "      border: none;\n",
              "      border-radius: 50%;\n",
              "      cursor: pointer;\n",
              "      display: none;\n",
              "      fill: #1967D2;\n",
              "      height: 32px;\n",
              "      padding: 0 0 0 0;\n",
              "      width: 32px;\n",
              "    }\n",
              "\n",
              "    .colab-df-convert:hover {\n",
              "      background-color: #E2EBFA;\n",
              "      box-shadow: 0px 1px 2px rgba(60, 64, 67, 0.3), 0px 1px 3px 1px rgba(60, 64, 67, 0.15);\n",
              "      fill: #174EA6;\n",
              "    }\n",
              "\n",
              "    [theme=dark] .colab-df-convert {\n",
              "      background-color: #3B4455;\n",
              "      fill: #D2E3FC;\n",
              "    }\n",
              "\n",
              "    [theme=dark] .colab-df-convert:hover {\n",
              "      background-color: #434B5C;\n",
              "      box-shadow: 0px 1px 3px 1px rgba(0, 0, 0, 0.15);\n",
              "      filter: drop-shadow(0px 1px 2px rgba(0, 0, 0, 0.3));\n",
              "      fill: #FFFFFF;\n",
              "    }\n",
              "  </style>\n",
              "\n",
              "      <script>\n",
              "        const buttonEl =\n",
              "          document.querySelector('#df-9f103d60-43cd-4e8a-8274-18388ebf2eb9 button.colab-df-convert');\n",
              "        buttonEl.style.display =\n",
              "          google.colab.kernel.accessAllowed ? 'block' : 'none';\n",
              "\n",
              "        async function convertToInteractive(key) {\n",
              "          const element = document.querySelector('#df-9f103d60-43cd-4e8a-8274-18388ebf2eb9');\n",
              "          const dataTable =\n",
              "            await google.colab.kernel.invokeFunction('convertToInteractive',\n",
              "                                                     [key], {});\n",
              "          if (!dataTable) return;\n",
              "\n",
              "          const docLinkHtml = 'Like what you see? Visit the ' +\n",
              "            '<a target=\"_blank\" href=https://colab.research.google.com/notebooks/data_table.ipynb>data table notebook</a>'\n",
              "            + ' to learn more about interactive tables.';\n",
              "          element.innerHTML = '';\n",
              "          dataTable['output_type'] = 'display_data';\n",
              "          await google.colab.output.renderOutput(dataTable, element);\n",
              "          const docLink = document.createElement('div');\n",
              "          docLink.innerHTML = docLinkHtml;\n",
              "          element.appendChild(docLink);\n",
              "        }\n",
              "      </script>\n",
              "    </div>\n",
              "  </div>\n",
              "  "
            ]
          },
          "metadata": {},
          "execution_count": 14
        }
      ]
    },
    {
      "cell_type": "code",
      "source": [
        "df['score'].value_counts()"
      ],
      "metadata": {
        "id": "ukv5W5IPiF-N",
        "colab": {
          "base_uri": "https://localhost:8080/"
        },
        "outputId": "f306d53b-a101-4052-9e12-9d891d1b6406"
      },
      "execution_count": 15,
      "outputs": [
        {
          "output_type": "execute_result",
          "data": {
            "text/plain": [
              "5    50368\n",
              "1    38956\n",
              "4     8866\n",
              "2     8840\n",
              "3     8002\n",
              "Name: score, dtype: int64"
            ]
          },
          "metadata": {},
          "execution_count": 15
        }
      ]
    },
    {
      "cell_type": "code",
      "source": [
        "def sentiment(df):\n",
        "    df['sentiment']='-'\n",
        "    df.loc[df['score']<=2,'sentiment']='negative'\n",
        "    df.loc[df['score']==3,'sentiment']='neutral'\n",
        "    df.loc[df['score']>=4,'sentiment']='positive'\n",
        "    \n",
        "    df = pd.get_dummies(df,columns=['sentiment']).reset_index(drop=True).drop(columns=['score'])\n",
        "    return df"
      ],
      "metadata": {
        "id": "rq-fQmY0iJjh"
      },
      "execution_count": 16,
      "outputs": []
    },
    {
      "cell_type": "code",
      "source": [
        "df = sentiment(df)"
      ],
      "metadata": {
        "id": "RNzR-DdXiNdn"
      },
      "execution_count": 17,
      "outputs": []
    },
    {
      "cell_type": "code",
      "source": [
        "import re"
      ],
      "metadata": {
        "id": "ZAk69vbMiQhG"
      },
      "execution_count": 18,
      "outputs": []
    },
    {
      "cell_type": "code",
      "source": [
        "TAG_RE = re.compile(r'<[^>]+>')\n",
        "\n",
        "def re_tags(text_list): #define remove tag funtion\n",
        "    return [TAG_RE.sub('', str(word)).lower() for word in text_list]"
      ],
      "metadata": {
        "id": "VhG4xZcfiUAb"
      },
      "execution_count": 19,
      "outputs": []
    },
    {
      "cell_type": "code",
      "source": [
        "pip install unidecode"
      ],
      "metadata": {
        "id": "IO8iqNBti3jR",
        "colab": {
          "base_uri": "https://localhost:8080/"
        },
        "outputId": "22dc53b9-3375-4466-c53e-67b8bc204cfa"
      },
      "execution_count": 20,
      "outputs": [
        {
          "output_type": "stream",
          "name": "stdout",
          "text": [
            "Looking in indexes: https://pypi.org/simple, https://us-python.pkg.dev/colab-wheels/public/simple/\n",
            "Collecting unidecode\n",
            "  Downloading Unidecode-1.3.6-py3-none-any.whl (235 kB)\n",
            "\u001b[2K     \u001b[90m━━━━━━━━━━━━━━━━━━━━━━━━━━━━━━━━━━━━━━━\u001b[0m \u001b[32m235.9/235.9 KB\u001b[0m \u001b[31m7.6 MB/s\u001b[0m eta \u001b[36m0:00:00\u001b[0m\n",
            "\u001b[?25hInstalling collected packages: unidecode\n",
            "Successfully installed unidecode-1.3.6\n"
          ]
        }
      ]
    },
    {
      "cell_type": "code",
      "source": [
        "import unidecode"
      ],
      "metadata": {
        "id": "cPem0zgOiW3k"
      },
      "execution_count": 21,
      "outputs": []
    },
    {
      "cell_type": "code",
      "source": [
        "def re_accented_char(text_list):\n",
        "   \n",
        "    return [unidecode.unidecode(word.encode().decode('utf-8')) for word in text_list]"
      ],
      "metadata": {
        "id": "dRXgP9DgpUyK"
      },
      "execution_count": 22,
      "outputs": []
    },
    {
      "cell_type": "code",
      "source": [
        "def ex_contractions(text_list):\n",
        "    result=[]\n",
        "    for word in text_list:\n",
        "        # replace contracting withoutsignal\n",
        "        word = word.replace(\"wont\",\"won't\")\n",
        "        word = word.replace(\"cant\",\"can't\")\n",
        "        word = word.replace(\"its\",\"it's\")\n",
        "        word = word.replace(\"youre\",\"you're\")\n",
        "        word = word.replace(\"hes\",\"he's\")\n",
        "        word = word.replace(\"shes\",\"she's\")\n",
        "        word = word.replace(\"its\",\"it's\")\n",
        "        word = word.replace(\"weare\",\"we're\")\n",
        "        word = word.replace(\"theyre\",\"they're\")\n",
        "\n",
        "        # specific\n",
        "        word = re.sub(r\"won\\'t\", \"will not\", str(word))\n",
        "        word = re.sub(r\"can\\'t\", \"can not\", str(word))\n",
        "\n",
        "        # general\n",
        "        word = re.sub(r\"n\\'t\", \" not\", str(word))\n",
        "        word = re.sub(r\"\\'re\", \" are\", str(word))\n",
        "        word = re.sub(r\"\\'s\", \" is\", str(word))\n",
        "        word = re.sub(r\"\\'d\", \" would\", str(word))\n",
        "        word = re.sub(r\"\\'ll\", \" will\", str(word))\n",
        "        word = re.sub(r\"\\'t\", \" not\", str(word))\n",
        "        word = re.sub(r\"\\'ve\", \" have\", str(word))\n",
        "        word = re.sub(r\"\\'m\", \" am\", str(word))\n",
        "        result.append(word)\n",
        "    return result"
      ],
      "metadata": {
        "id": "LGAR20jfi2fJ"
      },
      "execution_count": 23,
      "outputs": []
    },
    {
      "cell_type": "code",
      "source": [
        "def re_special_chars(text_list):\n",
        "    return [re.sub(\"[^a-zA-Z0-9]\",\" \",word) for word in text_list]"
      ],
      "metadata": {
        "id": "3j-Zg0yria5h"
      },
      "execution_count": 24,
      "outputs": []
    },
    {
      "cell_type": "code",
      "source": [
        "from nltk.stem import WordNetLemmatizer "
      ],
      "metadata": {
        "id": "FBOBQQAXjLw8"
      },
      "execution_count": 25,
      "outputs": []
    },
    {
      "cell_type": "code",
      "source": [
        "def lemmatize_text(text_list):\n",
        "    wnl = WordNetLemmatizer()\n",
        "    lemmatizer_sentence = []  \n",
        "    tokenizer=nltk.tokenize.WhitespaceTokenizer()\n",
        "    for word in tokenizer.tokenize(text_list):\n",
        "        lemmatizer_sentence.append(wnl.lemmatize(word,'v'))\n",
        "        lemmatizer_sentence.append(\" \")\n",
        "    \n",
        "    return(\"\".join(lemmatizer_sentence))"
      ],
      "metadata": {
        "id": "ctADSbnujOla"
      },
      "execution_count": 26,
      "outputs": []
    },
    {
      "cell_type": "code",
      "source": [
        "import nltk"
      ],
      "metadata": {
        "id": "OD0lBO-RIuHH"
      },
      "execution_count": 27,
      "outputs": []
    },
    {
      "cell_type": "code",
      "source": [
        "from nltk.corpus import stopwords"
      ],
      "metadata": {
        "id": "FcWR48oGjVhy"
      },
      "execution_count": 28,
      "outputs": []
    },
    {
      "cell_type": "code",
      "source": [
        "def stopwords_text(text_list):\n",
        "    stop = stopwords.words('english')\n",
        "    sentence_without = []\n",
        "    tokenizer=nltk.tokenize.WhitespaceTokenizer()\n",
        "    for word in tokenizer.tokenize(text_list):\n",
        "        if word not in stop:\n",
        "            sentence_without.append(word)\n",
        "            sentence_without.append(\" \")\n",
        "            \n",
        "    return(\"\".join(sentence_without))"
      ],
      "metadata": {
        "id": "G2PqqOtYjbjF"
      },
      "execution_count": 29,
      "outputs": []
    },
    {
      "cell_type": "code",
      "source": [
        "nltk.download('words')"
      ],
      "metadata": {
        "id": "RY5Ng-8nlOBD",
        "colab": {
          "base_uri": "https://localhost:8080/"
        },
        "outputId": "a1e31aa3-b610-45b4-8e72-5c8a633c0271"
      },
      "execution_count": 30,
      "outputs": [
        {
          "output_type": "stream",
          "name": "stderr",
          "text": [
            "[nltk_data] Downloading package words to /root/nltk_data...\n",
            "[nltk_data]   Unzipping corpora/words.zip.\n"
          ]
        },
        {
          "output_type": "execute_result",
          "data": {
            "text/plain": [
              "True"
            ]
          },
          "metadata": {},
          "execution_count": 30
        }
      ]
    },
    {
      "cell_type": "code",
      "source": [
        "words=set(nltk.corpus.words.words())\n",
        "\n",
        "def word_check(text_list):\n",
        "    result=[]\n",
        "    for word in text_list:\n",
        "        if word.lower() in words:\n",
        "            result.append(word)\n",
        "    return result"
      ],
      "metadata": {
        "id": "b1ey_vO0jj3I"
      },
      "execution_count": 31,
      "outputs": []
    },
    {
      "cell_type": "code",
      "source": [
        "def re_whitespaces(text_list): \n",
        "    result=[]\n",
        "    for word in text_list:\n",
        "        word=(re.sub(r'\\d','dig',str(word))) #remove numbers \n",
        "        word = (re.sub(r'\\s+',' ', str(word))) #remove duplicates white spacces\n",
        "        result.append(word)\n",
        "    return result"
      ],
      "metadata": {
        "id": "U_19fGcUjmtG"
      },
      "execution_count": 32,
      "outputs": []
    },
    {
      "cell_type": "code",
      "source": [
        "# Removing blank comments\n",
        "df = df[df['reviews']!='']"
      ],
      "metadata": {
        "id": "ENZv8uKWlXsV"
      },
      "execution_count": 33,
      "outputs": []
    },
    {
      "cell_type": "code",
      "source": [
        "from sklearn.pipeline import Pipeline\n",
        "from sklearn.base import BaseEstimator, TransformerMixin"
      ],
      "metadata": {
        "id": "hezjHI84laPR"
      },
      "execution_count": 34,
      "outputs": []
    },
    {
      "cell_type": "code",
      "source": [
        "# Class for regular expressions application\n",
        "class ApplyRegex(BaseEstimator, TransformerMixin):\n",
        "    \n",
        "    def __init__(self, regex_transformers):\n",
        "        self.regex_transformers = regex_transformers\n",
        "        \n",
        "    def fit(self, X, y=None):\n",
        "        return self\n",
        "    \n",
        "    def transform(self, X, y=None):\n",
        "        # Applying all regex functions in the regex_transformers dictionary\n",
        "        for regex_name, regex_function in self.regex_transformers.items():\n",
        "            X = regex_function(X)\n",
        "            \n",
        "        return X"
      ],
      "metadata": {
        "id": "GlcEJigElc3d"
      },
      "execution_count": 35,
      "outputs": []
    },
    {
      "cell_type": "code",
      "source": [
        "class StopWordsRemoval(BaseEstimator, TransformerMixin):\n",
        "    \n",
        "    def __init__(self, text_stopwords):\n",
        "        self.text_stopwords = text_stopwords\n",
        "    def fit(self, X, y=None):\n",
        "        return self\n",
        "    def transform(self, X, y=None):\n",
        "        return [self.text_stopwords(comment) for comment in X]"
      ],
      "metadata": {
        "id": "LN5v2FMtlf1J"
      },
      "execution_count": 36,
      "outputs": []
    },
    {
      "cell_type": "code",
      "source": [
        "class LemmatizeProcess(BaseEstimator, TransformerMixin):\n",
        "    \n",
        "    def __init__(self, Lemmatize):\n",
        "        self.Lemmatizer = Lemmatize\n",
        "    \n",
        "    def fit(self, X, y=None):\n",
        "        return self\n",
        "    \n",
        "    def transform(self, X, y=None):\n",
        "        return [self.Lemmatizer(comment) for comment in X]\n",
        "        "
      ],
      "metadata": {
        "id": "cGtvnJcXli9M"
      },
      "execution_count": 37,
      "outputs": []
    },
    {
      "cell_type": "code",
      "source": [
        "# Defining regex transformers to be applied\n",
        "regex_transformers = {\n",
        "    'remove_tags': re_tags,\n",
        "    'remove_accents': re_accented_char,\n",
        "    'decontracted': ex_contractions,\n",
        "    're_sc': re_special_chars,\n",
        "    'whitespaces': re_whitespaces\n",
        "}\n",
        "\n",
        "# Building a text prep pipeline\n",
        "text_prep_pipeline = Pipeline([\n",
        "    ('regex', ApplyRegex(regex_transformers)),\n",
        "    ('stopwords', StopWordsRemoval(stopwords_text)),\n",
        "    ('lemmatize', LemmatizeProcess(lemmatize_text)),\n",
        "])\n",
        "\n",
        "\n",
        "\n"
      ],
      "metadata": {
        "id": "j_-h04J4lnHT"
      },
      "execution_count": 38,
      "outputs": []
    },
    {
      "cell_type": "code",
      "source": [
        "nltk.download('stopwords')\n",
        "nltk.download('wordnet')\n",
        "nltk.download('omw-1.4')"
      ],
      "metadata": {
        "id": "CrDCjRSxssef",
        "colab": {
          "base_uri": "https://localhost:8080/"
        },
        "outputId": "8472acc5-1b47-41d7-d598-5b19470f34b1"
      },
      "execution_count": 39,
      "outputs": [
        {
          "output_type": "stream",
          "name": "stderr",
          "text": [
            "[nltk_data] Downloading package stopwords to /root/nltk_data...\n",
            "[nltk_data]   Unzipping corpora/stopwords.zip.\n",
            "[nltk_data] Downloading package wordnet to /root/nltk_data...\n",
            "[nltk_data] Downloading package omw-1.4 to /root/nltk_data...\n"
          ]
        },
        {
          "output_type": "execute_result",
          "data": {
            "text/plain": [
              "True"
            ]
          },
          "metadata": {},
          "execution_count": 39
        }
      ]
    },
    {
      "cell_type": "code",
      "source": [
        "df['reviews'] = text_prep_pipeline.fit_transform(df[df.columns[:1]].values)"
      ],
      "metadata": {
        "id": "avXf3-JTl4qn"
      },
      "execution_count": 40,
      "outputs": []
    },
    {
      "cell_type": "code",
      "source": [
        "import plotly.express as px"
      ],
      "metadata": {
        "id": "SydO59SuslER"
      },
      "execution_count": 41,
      "outputs": []
    },
    {
      "cell_type": "code",
      "source": [
        "total = pd.DataFrame(df[df.columns[1:]].sum()).rename(columns={0:'Total'})"
      ],
      "metadata": {
        "id": "Yb7Q_yv3tesr"
      },
      "execution_count": 42,
      "outputs": []
    },
    {
      "cell_type": "code",
      "source": [
        "fig = px.pie(total,values='Total',names=total.index)\n",
        "plt.savefig(\"Pie_plot.png\")\n",
        "\n",
        "fig.show()"
      ],
      "metadata": {
        "id": "22eJcVxJthlz",
        "colab": {
          "base_uri": "https://localhost:8080/",
          "height": 559
        },
        "outputId": "32cff5f7-58ea-4707-f2bc-4f0125c56002"
      },
      "execution_count": 43,
      "outputs": [
        {
          "output_type": "display_data",
          "data": {
            "text/html": [
              "<html>\n",
              "<head><meta charset=\"utf-8\" /></head>\n",
              "<body>\n",
              "    <div>            <script src=\"https://cdnjs.cloudflare.com/ajax/libs/mathjax/2.7.5/MathJax.js?config=TeX-AMS-MML_SVG\"></script><script type=\"text/javascript\">if (window.MathJax) {MathJax.Hub.Config({SVG: {font: \"STIX-Web\"}});}</script>                <script type=\"text/javascript\">window.PlotlyConfig = {MathJaxConfig: 'local'};</script>\n",
              "        <script src=\"https://cdn.plot.ly/plotly-2.8.3.min.js\"></script>                <div id=\"36fda4b8-6448-43af-82ed-40e375bea11c\" class=\"plotly-graph-div\" style=\"height:525px; width:100%;\"></div>            <script type=\"text/javascript\">                                    window.PLOTLYENV=window.PLOTLYENV || {};                                    if (document.getElementById(\"36fda4b8-6448-43af-82ed-40e375bea11c\")) {                    Plotly.newPlot(                        \"36fda4b8-6448-43af-82ed-40e375bea11c\",                        [{\"domain\":{\"x\":[0.0,1.0],\"y\":[0.0,1.0]},\"hovertemplate\":\"index=%{label}<br>Total=%{value}<extra></extra>\",\"labels\":[\"sentiment_negative\",\"sentiment_neutral\",\"sentiment_positive\"],\"legendgroup\":\"\",\"name\":\"\",\"showlegend\":true,\"values\":[47796,8002,59234],\"type\":\"pie\"}],                        {\"template\":{\"data\":{\"bar\":[{\"error_x\":{\"color\":\"#2a3f5f\"},\"error_y\":{\"color\":\"#2a3f5f\"},\"marker\":{\"line\":{\"color\":\"#E5ECF6\",\"width\":0.5},\"pattern\":{\"fillmode\":\"overlay\",\"size\":10,\"solidity\":0.2}},\"type\":\"bar\"}],\"barpolar\":[{\"marker\":{\"line\":{\"color\":\"#E5ECF6\",\"width\":0.5},\"pattern\":{\"fillmode\":\"overlay\",\"size\":10,\"solidity\":0.2}},\"type\":\"barpolar\"}],\"carpet\":[{\"aaxis\":{\"endlinecolor\":\"#2a3f5f\",\"gridcolor\":\"white\",\"linecolor\":\"white\",\"minorgridcolor\":\"white\",\"startlinecolor\":\"#2a3f5f\"},\"baxis\":{\"endlinecolor\":\"#2a3f5f\",\"gridcolor\":\"white\",\"linecolor\":\"white\",\"minorgridcolor\":\"white\",\"startlinecolor\":\"#2a3f5f\"},\"type\":\"carpet\"}],\"choropleth\":[{\"colorbar\":{\"outlinewidth\":0,\"ticks\":\"\"},\"type\":\"choropleth\"}],\"contour\":[{\"colorbar\":{\"outlinewidth\":0,\"ticks\":\"\"},\"colorscale\":[[0.0,\"#0d0887\"],[0.1111111111111111,\"#46039f\"],[0.2222222222222222,\"#7201a8\"],[0.3333333333333333,\"#9c179e\"],[0.4444444444444444,\"#bd3786\"],[0.5555555555555556,\"#d8576b\"],[0.6666666666666666,\"#ed7953\"],[0.7777777777777778,\"#fb9f3a\"],[0.8888888888888888,\"#fdca26\"],[1.0,\"#f0f921\"]],\"type\":\"contour\"}],\"contourcarpet\":[{\"colorbar\":{\"outlinewidth\":0,\"ticks\":\"\"},\"type\":\"contourcarpet\"}],\"heatmap\":[{\"colorbar\":{\"outlinewidth\":0,\"ticks\":\"\"},\"colorscale\":[[0.0,\"#0d0887\"],[0.1111111111111111,\"#46039f\"],[0.2222222222222222,\"#7201a8\"],[0.3333333333333333,\"#9c179e\"],[0.4444444444444444,\"#bd3786\"],[0.5555555555555556,\"#d8576b\"],[0.6666666666666666,\"#ed7953\"],[0.7777777777777778,\"#fb9f3a\"],[0.8888888888888888,\"#fdca26\"],[1.0,\"#f0f921\"]],\"type\":\"heatmap\"}],\"heatmapgl\":[{\"colorbar\":{\"outlinewidth\":0,\"ticks\":\"\"},\"colorscale\":[[0.0,\"#0d0887\"],[0.1111111111111111,\"#46039f\"],[0.2222222222222222,\"#7201a8\"],[0.3333333333333333,\"#9c179e\"],[0.4444444444444444,\"#bd3786\"],[0.5555555555555556,\"#d8576b\"],[0.6666666666666666,\"#ed7953\"],[0.7777777777777778,\"#fb9f3a\"],[0.8888888888888888,\"#fdca26\"],[1.0,\"#f0f921\"]],\"type\":\"heatmapgl\"}],\"histogram\":[{\"marker\":{\"pattern\":{\"fillmode\":\"overlay\",\"size\":10,\"solidity\":0.2}},\"type\":\"histogram\"}],\"histogram2d\":[{\"colorbar\":{\"outlinewidth\":0,\"ticks\":\"\"},\"colorscale\":[[0.0,\"#0d0887\"],[0.1111111111111111,\"#46039f\"],[0.2222222222222222,\"#7201a8\"],[0.3333333333333333,\"#9c179e\"],[0.4444444444444444,\"#bd3786\"],[0.5555555555555556,\"#d8576b\"],[0.6666666666666666,\"#ed7953\"],[0.7777777777777778,\"#fb9f3a\"],[0.8888888888888888,\"#fdca26\"],[1.0,\"#f0f921\"]],\"type\":\"histogram2d\"}],\"histogram2dcontour\":[{\"colorbar\":{\"outlinewidth\":0,\"ticks\":\"\"},\"colorscale\":[[0.0,\"#0d0887\"],[0.1111111111111111,\"#46039f\"],[0.2222222222222222,\"#7201a8\"],[0.3333333333333333,\"#9c179e\"],[0.4444444444444444,\"#bd3786\"],[0.5555555555555556,\"#d8576b\"],[0.6666666666666666,\"#ed7953\"],[0.7777777777777778,\"#fb9f3a\"],[0.8888888888888888,\"#fdca26\"],[1.0,\"#f0f921\"]],\"type\":\"histogram2dcontour\"}],\"mesh3d\":[{\"colorbar\":{\"outlinewidth\":0,\"ticks\":\"\"},\"type\":\"mesh3d\"}],\"parcoords\":[{\"line\":{\"colorbar\":{\"outlinewidth\":0,\"ticks\":\"\"}},\"type\":\"parcoords\"}],\"pie\":[{\"automargin\":true,\"type\":\"pie\"}],\"scatter\":[{\"marker\":{\"colorbar\":{\"outlinewidth\":0,\"ticks\":\"\"}},\"type\":\"scatter\"}],\"scatter3d\":[{\"line\":{\"colorbar\":{\"outlinewidth\":0,\"ticks\":\"\"}},\"marker\":{\"colorbar\":{\"outlinewidth\":0,\"ticks\":\"\"}},\"type\":\"scatter3d\"}],\"scattercarpet\":[{\"marker\":{\"colorbar\":{\"outlinewidth\":0,\"ticks\":\"\"}},\"type\":\"scattercarpet\"}],\"scattergeo\":[{\"marker\":{\"colorbar\":{\"outlinewidth\":0,\"ticks\":\"\"}},\"type\":\"scattergeo\"}],\"scattergl\":[{\"marker\":{\"colorbar\":{\"outlinewidth\":0,\"ticks\":\"\"}},\"type\":\"scattergl\"}],\"scattermapbox\":[{\"marker\":{\"colorbar\":{\"outlinewidth\":0,\"ticks\":\"\"}},\"type\":\"scattermapbox\"}],\"scatterpolar\":[{\"marker\":{\"colorbar\":{\"outlinewidth\":0,\"ticks\":\"\"}},\"type\":\"scatterpolar\"}],\"scatterpolargl\":[{\"marker\":{\"colorbar\":{\"outlinewidth\":0,\"ticks\":\"\"}},\"type\":\"scatterpolargl\"}],\"scatterternary\":[{\"marker\":{\"colorbar\":{\"outlinewidth\":0,\"ticks\":\"\"}},\"type\":\"scatterternary\"}],\"surface\":[{\"colorbar\":{\"outlinewidth\":0,\"ticks\":\"\"},\"colorscale\":[[0.0,\"#0d0887\"],[0.1111111111111111,\"#46039f\"],[0.2222222222222222,\"#7201a8\"],[0.3333333333333333,\"#9c179e\"],[0.4444444444444444,\"#bd3786\"],[0.5555555555555556,\"#d8576b\"],[0.6666666666666666,\"#ed7953\"],[0.7777777777777778,\"#fb9f3a\"],[0.8888888888888888,\"#fdca26\"],[1.0,\"#f0f921\"]],\"type\":\"surface\"}],\"table\":[{\"cells\":{\"fill\":{\"color\":\"#EBF0F8\"},\"line\":{\"color\":\"white\"}},\"header\":{\"fill\":{\"color\":\"#C8D4E3\"},\"line\":{\"color\":\"white\"}},\"type\":\"table\"}]},\"layout\":{\"annotationdefaults\":{\"arrowcolor\":\"#2a3f5f\",\"arrowhead\":0,\"arrowwidth\":1},\"autotypenumbers\":\"strict\",\"coloraxis\":{\"colorbar\":{\"outlinewidth\":0,\"ticks\":\"\"}},\"colorscale\":{\"diverging\":[[0,\"#8e0152\"],[0.1,\"#c51b7d\"],[0.2,\"#de77ae\"],[0.3,\"#f1b6da\"],[0.4,\"#fde0ef\"],[0.5,\"#f7f7f7\"],[0.6,\"#e6f5d0\"],[0.7,\"#b8e186\"],[0.8,\"#7fbc41\"],[0.9,\"#4d9221\"],[1,\"#276419\"]],\"sequential\":[[0.0,\"#0d0887\"],[0.1111111111111111,\"#46039f\"],[0.2222222222222222,\"#7201a8\"],[0.3333333333333333,\"#9c179e\"],[0.4444444444444444,\"#bd3786\"],[0.5555555555555556,\"#d8576b\"],[0.6666666666666666,\"#ed7953\"],[0.7777777777777778,\"#fb9f3a\"],[0.8888888888888888,\"#fdca26\"],[1.0,\"#f0f921\"]],\"sequentialminus\":[[0.0,\"#0d0887\"],[0.1111111111111111,\"#46039f\"],[0.2222222222222222,\"#7201a8\"],[0.3333333333333333,\"#9c179e\"],[0.4444444444444444,\"#bd3786\"],[0.5555555555555556,\"#d8576b\"],[0.6666666666666666,\"#ed7953\"],[0.7777777777777778,\"#fb9f3a\"],[0.8888888888888888,\"#fdca26\"],[1.0,\"#f0f921\"]]},\"colorway\":[\"#636efa\",\"#EF553B\",\"#00cc96\",\"#ab63fa\",\"#FFA15A\",\"#19d3f3\",\"#FF6692\",\"#B6E880\",\"#FF97FF\",\"#FECB52\"],\"font\":{\"color\":\"#2a3f5f\"},\"geo\":{\"bgcolor\":\"white\",\"lakecolor\":\"white\",\"landcolor\":\"#E5ECF6\",\"showlakes\":true,\"showland\":true,\"subunitcolor\":\"white\"},\"hoverlabel\":{\"align\":\"left\"},\"hovermode\":\"closest\",\"mapbox\":{\"style\":\"light\"},\"paper_bgcolor\":\"white\",\"plot_bgcolor\":\"#E5ECF6\",\"polar\":{\"angularaxis\":{\"gridcolor\":\"white\",\"linecolor\":\"white\",\"ticks\":\"\"},\"bgcolor\":\"#E5ECF6\",\"radialaxis\":{\"gridcolor\":\"white\",\"linecolor\":\"white\",\"ticks\":\"\"}},\"scene\":{\"xaxis\":{\"backgroundcolor\":\"#E5ECF6\",\"gridcolor\":\"white\",\"gridwidth\":2,\"linecolor\":\"white\",\"showbackground\":true,\"ticks\":\"\",\"zerolinecolor\":\"white\"},\"yaxis\":{\"backgroundcolor\":\"#E5ECF6\",\"gridcolor\":\"white\",\"gridwidth\":2,\"linecolor\":\"white\",\"showbackground\":true,\"ticks\":\"\",\"zerolinecolor\":\"white\"},\"zaxis\":{\"backgroundcolor\":\"#E5ECF6\",\"gridcolor\":\"white\",\"gridwidth\":2,\"linecolor\":\"white\",\"showbackground\":true,\"ticks\":\"\",\"zerolinecolor\":\"white\"}},\"shapedefaults\":{\"line\":{\"color\":\"#2a3f5f\"}},\"ternary\":{\"aaxis\":{\"gridcolor\":\"white\",\"linecolor\":\"white\",\"ticks\":\"\"},\"baxis\":{\"gridcolor\":\"white\",\"linecolor\":\"white\",\"ticks\":\"\"},\"bgcolor\":\"#E5ECF6\",\"caxis\":{\"gridcolor\":\"white\",\"linecolor\":\"white\",\"ticks\":\"\"}},\"title\":{\"x\":0.05},\"xaxis\":{\"automargin\":true,\"gridcolor\":\"white\",\"linecolor\":\"white\",\"ticks\":\"\",\"title\":{\"standoff\":15},\"zerolinecolor\":\"white\",\"zerolinewidth\":2},\"yaxis\":{\"automargin\":true,\"gridcolor\":\"white\",\"linecolor\":\"white\",\"ticks\":\"\",\"title\":{\"standoff\":15},\"zerolinecolor\":\"white\",\"zerolinewidth\":2}}},\"legend\":{\"tracegroupgap\":0},\"margin\":{\"t\":60}},                        {\"responsive\": true}                    ).then(function(){\n",
              "                            \n",
              "var gd = document.getElementById('36fda4b8-6448-43af-82ed-40e375bea11c');\n",
              "var x = new MutationObserver(function (mutations, observer) {{\n",
              "        var display = window.getComputedStyle(gd).display;\n",
              "        if (!display || display === 'none') {{\n",
              "            console.log([gd, 'removed!']);\n",
              "            Plotly.purge(gd);\n",
              "            observer.disconnect();\n",
              "        }}\n",
              "}});\n",
              "\n",
              "// Listen for the removal of the full notebook cells\n",
              "var notebookContainer = gd.closest('#notebook-container');\n",
              "if (notebookContainer) {{\n",
              "    x.observe(notebookContainer, {childList: true});\n",
              "}}\n",
              "\n",
              "// Listen for the clearing of the current output cell\n",
              "var outputEl = gd.closest('.output');\n",
              "if (outputEl) {{\n",
              "    x.observe(outputEl, {childList: true});\n",
              "}}\n",
              "\n",
              "                        })                };                            </script>        </div>\n",
              "</body>\n",
              "</html>"
            ]
          },
          "metadata": {}
        },
        {
          "output_type": "display_data",
          "data": {
            "text/plain": [
              "<Figure size 432x288 with 0 Axes>"
            ]
          },
          "metadata": {}
        }
      ]
    },
    {
      "cell_type": "code",
      "source": [
        "from wordcloud import WordCloud \n",
        "import matplotlib.pyplot as plt"
      ],
      "metadata": {
        "id": "V-cbITfgtkDV"
      },
      "execution_count": 44,
      "outputs": []
    },
    {
      "cell_type": "code",
      "source": [
        "pos_comments = list(df[df['sentiment_positive']==1]['reviews'].values)\n",
        "positive_words = ' '.join(pos_comments).split(' ')\n",
        "positive_words = pd.DataFrame(positive_words,columns=['words'])['words'].value_counts()[1:]\n",
        "\n",
        "neu_comments = list(df[df['sentiment_neutral']==1]['reviews'].values)\n",
        "neutral_words = ' '.join(neu_comments).split(' ')\n",
        "neutral_words = pd.DataFrame(neutral_words,columns=['words'])['words'].value_counts()[1:]\n",
        "\n",
        "neg_comments = list(df[df['sentiment_negative']==1]['reviews'].values)\n",
        "negative_words = ' '.join(neg_comments).split(' ')\n",
        "negative_words = pd.DataFrame(negative_words,columns=['words'])['words'].value_counts()[1:]"
      ],
      "metadata": {
        "id": "MpcqaYm9tq-p"
      },
      "execution_count": 45,
      "outputs": []
    },
    {
      "cell_type": "code",
      "source": [
        "positive_wc = WordCloud(width=1280, height=720, collocations=False, random_state=42,\n",
        "                      colormap='Blues', background_color='white', max_words=50)\n",
        "positive_wc = positive_wc.generate_from_frequencies(positive_words)\n",
        "\n",
        "\n",
        "neutral_wc = WordCloud(width=1280, height=720, collocations=False, random_state=42,\n",
        "                          colormap='Greys', background_color='white', max_words=50)\n",
        "neutral_wc = neutral_wc.generate_from_frequencies(neutral_words)\n",
        "\n",
        "\n",
        "negative_wc = WordCloud(width=1280, height=720, collocations=False, random_state=42,\n",
        "                          colormap='Reds_r', background_color='white', max_words=50)\n",
        "negative_wc = negative_wc.generate_from_frequencies(negative_words)\n",
        "\n"
      ],
      "metadata": {
        "id": "zBmx45_Jttyu"
      },
      "execution_count": 46,
      "outputs": []
    },
    {
      "cell_type": "code",
      "source": [
        "fig, axs = plt.subplots(1, 3, figsize=(20, 20))\n",
        "\n",
        "axs[0].set_title('WordCloud for Positive', size=25, pad=20)\n",
        "axs[0].imshow(positive_wc)\n",
        "axs[0].axis('off')\n",
        "\n",
        "axs[1].set_title('WordCloud for Neutral', size=25, pad=20)\n",
        "axs[1].imshow(neutral_wc)\n",
        "axs[1].axis('off')\n",
        "\n",
        "axs[2].set_title('WordCloud for Negative', size=25, pad=20)\n",
        "axs[2].imshow(negative_wc)\n",
        "axs[2].axis('off');\n",
        "\n",
        "plt.savefig(\"WordCloud.jpg\")\n",
        "\n",
        "\n",
        "fig.subplots_adjust(hspace=1,wspace=0.0)\n"
      ],
      "metadata": {
        "id": "pW4eEARytw7p",
        "colab": {
          "base_uri": "https://localhost:8080/",
          "height": 279
        },
        "outputId": "029daa7f-50c7-4c79-e272-f3f0a2227d02"
      },
      "execution_count": 47,
      "outputs": [
        {
          "output_type": "display_data",
          "data": {
            "text/plain": [
              "<Figure size 1440x1440 with 3 Axes>"
            ],
            "image/png": "[encoded data removed]"
          },
          "metadata": {
            "needs_background": "light"
          }
        }
      ]
    },
    {
      "cell_type": "code",
      "source": [
        "from sklearn.feature_extraction.text import CountVectorizer\n",
        "from plotly.subplots import make_subplots\n",
        "import plotly.graph_objects as go"
      ],
      "metadata": {
        "id": "NY7foLzrt0sQ"
      },
      "execution_count": 48,
      "outputs": []
    },
    {
      "cell_type": "code",
      "source": [
        "def ngram_results(df):\n",
        "    \n",
        "    df_1=df[df['sentiment_positive']==1]\n",
        "    df_2=df[df['sentiment_neutral']==1]\n",
        "    df_3=df[df['sentiment_negative']==1]\n",
        "    \n",
        "    \n",
        "    def uni_bi_tri(df_pos,df_neu,df_neg):\n",
        "        \n",
        "        #pos\n",
        "        word_vectorizer = CountVectorizer(ngram_range=(1,1), analyzer='word')\n",
        "        sparse_matrix = word_vectorizer.fit_transform(df_pos['reviews'][:10000])\n",
        "        frequencies = sum(sparse_matrix).toarray()[0]\n",
        "        result_mono_pos=pd.DataFrame(frequencies, index=word_vectorizer.get_feature_names(), columns=['frequency']).sort_values(by=['frequency'],ascending=False)\n",
        "\n",
        "        word_vectorizer = CountVectorizer(ngram_range=(2,2), analyzer='word')\n",
        "        sparse_matrix = word_vectorizer.fit_transform(df_pos['reviews'][:10000])\n",
        "        frequencies = sum(sparse_matrix).toarray()[0]\n",
        "        result_bi_pos=pd.DataFrame(frequencies, index=word_vectorizer.get_feature_names(), columns=['frequency']).sort_values(by=['frequency'],ascending=False)\n",
        "\n",
        "        word_vectorizer = CountVectorizer(ngram_range=(3,3), analyzer='word')\n",
        "        sparse_matrix = word_vectorizer.fit_transform(df_pos['reviews'][:10000])\n",
        "        frequencies = sum(sparse_matrix).toarray()[0]\n",
        "        result_tri_pos=pd.DataFrame(frequencies, index=word_vectorizer.get_feature_names(), columns=['frequency']).sort_values(by=['frequency'],ascending=False)\n",
        "        \n",
        "        word_vectorizer = CountVectorizer(ngram_range=(4,4), analyzer='word')\n",
        "        sparse_matrix = word_vectorizer.fit_transform(df_pos['reviews'][:10000])\n",
        "        frequencies = sum(sparse_matrix).toarray()[0]\n",
        "        result_tetra_pos=pd.DataFrame(frequencies, index=word_vectorizer.get_feature_names(), columns=['frequency']).sort_values(by=['frequency'],ascending=False)\n",
        "       \n",
        "        #neu\n",
        "        word_vectorizer = CountVectorizer(ngram_range=(1,1), analyzer='word')\n",
        "        sparse_matrix = word_vectorizer.fit_transform(df_neu['reviews'][:10000])\n",
        "        frequencies = sum(sparse_matrix).toarray()[0]\n",
        "        result_mono_neu=pd.DataFrame(frequencies, index=word_vectorizer.get_feature_names(), columns=['frequency']).sort_values(by=['frequency'],ascending=False)\n",
        "\n",
        "        word_vectorizer = CountVectorizer(ngram_range=(2,2), analyzer='word')\n",
        "        sparse_matrix = word_vectorizer.fit_transform(df_neu['reviews'][:10000])\n",
        "        frequencies = sum(sparse_matrix).toarray()[0]\n",
        "        result_bi_neu=pd.DataFrame(frequencies, index=word_vectorizer.get_feature_names(), columns=['frequency']).sort_values(by=['frequency'],ascending=False)\n",
        "\n",
        "        word_vectorizer = CountVectorizer(ngram_range=(3,3), analyzer='word')\n",
        "        sparse_matrix = word_vectorizer.fit_transform(df_neu['reviews'][:10000])\n",
        "        frequencies = sum(sparse_matrix).toarray()[0]\n",
        "        result_tri_neu=pd.DataFrame(frequencies, index=word_vectorizer.get_feature_names(), columns=['frequency']).sort_values(by=['frequency'],ascending=False)\n",
        "        \n",
        "        word_vectorizer = CountVectorizer(ngram_range=(4,4), analyzer='word')\n",
        "        sparse_matrix = word_vectorizer.fit_transform(df_neu['reviews'][:10000])\n",
        "        frequencies = sum(sparse_matrix).toarray()[0]\n",
        "        result_tetra_neu=pd.DataFrame(frequencies, index=word_vectorizer.get_feature_names(), columns=['frequency']).sort_values(by=['frequency'],ascending=False)\n",
        "        \n",
        "        #neg\n",
        "        word_vectorizer = CountVectorizer(ngram_range=(1,1), analyzer='word')\n",
        "        sparse_matrix = word_vectorizer.fit_transform(df_neg['reviews'][:10000])\n",
        "        frequencies = sum(sparse_matrix).toarray()[0]\n",
        "        result_mono_neg=pd.DataFrame(frequencies, index=word_vectorizer.get_feature_names(), columns=['frequency']).sort_values(by=['frequency'],ascending=False)\n",
        "\n",
        "        word_vectorizer = CountVectorizer(ngram_range=(2,2), analyzer='word')\n",
        "        sparse_matrix = word_vectorizer.fit_transform(df_neg['reviews'][:10000])\n",
        "        frequencies = sum(sparse_matrix).toarray()[0]\n",
        "        result_bi_neg=pd.DataFrame(frequencies, index=word_vectorizer.get_feature_names(), columns=['frequency']).sort_values(by=['frequency'],ascending=False)\n",
        "\n",
        "        word_vectorizer = CountVectorizer(ngram_range=(3,3), analyzer='word')\n",
        "        sparse_matrix = word_vectorizer.fit_transform(df_neg['reviews'][:10000])\n",
        "        frequencies = sum(sparse_matrix).toarray()[0]\n",
        "        result_tri_neg=pd.DataFrame(frequencies, index=word_vectorizer.get_feature_names(), columns=['frequency']).sort_values(by=['frequency'],ascending=False)\n",
        "        \n",
        "        word_vectorizer = CountVectorizer(ngram_range=(4,4), analyzer='word')\n",
        "        sparse_matrix = word_vectorizer.fit_transform(df_neg['reviews'][:10000])\n",
        "        frequencies = sum(sparse_matrix).toarray()[0]\n",
        "        result_tetra_neg=pd.DataFrame(frequencies, index=word_vectorizer.get_feature_names(), columns=['frequency']).sort_values(by=['frequency'],ascending=False)\n",
        "        \n",
        "        results=[result_mono_pos,result_bi_pos,result_tri_pos,result_tetra_pos,\n",
        "                 result_mono_neu,result_bi_neu,result_tri_neu,result_tetra_neu,\n",
        "                 result_mono_neg,result_bi_neg,result_tri_neg,result_tetra_neg]\n",
        "        \n",
        "        return results\n",
        "    \n",
        "\n",
        "    \n",
        "    return uni_bi_tri(df_1,df_2,df_3)\n",
        "\n"
      ],
      "metadata": {
        "id": "Ry6JmO5juATp"
      },
      "execution_count": 49,
      "outputs": []
    },
    {
      "cell_type": "code",
      "source": [
        "amazon_results = ngram_results(df)"
      ],
      "metadata": {
        "id": "L8nJpV5KuC1F",
        "colab": {
          "base_uri": "https://localhost:8080/"
        },
        "outputId": "ed715b96-07dc-4211-9ea5-e7a528b69484"
      },
      "execution_count": 50,
      "outputs": [
        {
          "output_type": "stream",
          "name": "stderr",
          "text": [
            "/usr/local/lib/python3.8/dist-packages/sklearn/utils/deprecation.py:87: FutureWarning:\n",
            "\n",
            "Function get_feature_names is deprecated; get_feature_names is deprecated in 1.0 and will be removed in 1.2. Please use get_feature_names_out instead.\n",
            "\n"
          ]
        }
      ]
    },
    {
      "cell_type": "code",
      "source": [
        "def rename_index(dflist):\n",
        "\n",
        "    #pos\n",
        "    df_mono_pos=pd.DataFrame(dflist[0]).reset_index().rename(columns={'index':'Mono_Pos'})\n",
        "    df_bi_pos=pd.DataFrame(dflist[1]).reset_index().rename(columns={'index':'Bi_Pos'})\n",
        "    df_tri_pos=pd.DataFrame(dflist[2]).reset_index().rename(columns={'index':'Tri_Pos'})\n",
        "    df_tetra_pos=pd.DataFrame(dflist[3]).reset_index().rename(columns={'index':'Tetra_Pos'})\n",
        "    #neu\n",
        "    df_mono_neu=pd.DataFrame(dflist[4]).reset_index().rename(columns={'index':'Mono_Neu'})\n",
        "    df_bi_neu=pd.DataFrame(dflist[5]).reset_index().rename(columns={'index':'Bi_Neu'})\n",
        "    df_tri_neu=pd.DataFrame(dflist[6]).reset_index().rename(columns={'index':'Tri_Neu'})\n",
        "    df_tetra_neu=pd.DataFrame(dflist[7]).reset_index().rename(columns={'index':'Tetra_Neu'})\n",
        "    #neg\n",
        "    df_mono_neg=pd.DataFrame(dflist[8]).reset_index().rename(columns={'index':'Mono_Pos'})\n",
        "    df_bi_neg=pd.DataFrame(dflist[9]).reset_index().rename(columns={'index':'Bi_Pos'})\n",
        "    df_tri_neg=pd.DataFrame(dflist[10]).reset_index().rename(columns={'index':'Tri_Pos'})\n",
        "    df_tetra_neg=pd.DataFrame(dflist[11]).reset_index().rename(columns={'index':'Tetra_Neg'})\n",
        "    \n",
        "    result=[df_mono_pos, df_bi_pos, df_tri_pos, df_tetra_pos,\n",
        "            df_mono_neu, df_bi_neu, df_tri_neu, df_tetra_neu,\n",
        "            df_mono_neg, df_bi_neg, df_tri_neg, df_tetra_neg]\n",
        "    \n",
        "    return result"
      ],
      "metadata": {
        "id": "ltHMGIjVuOLx"
      },
      "execution_count": 51,
      "outputs": []
    },
    {
      "cell_type": "code",
      "source": [
        "amazon_results=rename_index(amazon_results)"
      ],
      "metadata": {
        "id": "FcBgfk-NvTqi"
      },
      "execution_count": 52,
      "outputs": []
    },
    {
      "cell_type": "code",
      "source": [
        "#for df in amazon_results:\n",
        "fig = make_subplots(rows=3, cols=4,\n",
        "                    vertical_spacing=0.15,\n",
        "                    column_titles =['Mono-grams','Bi-grams','Tri-grams','Tetra-grams'],\n",
        "                    row_titles =['Positive','Neutral','Negative'],                  \n",
        "      \n",
        "                   )\n",
        "#for df in amazon_results:\n",
        "fig.add_trace(go.Bar(\n",
        "            x = amazon_results[0][amazon_results[0].columns[0]].head(),\n",
        "            y = amazon_results[0][amazon_results[0].columns[1]].head(),\n",
        "            marker_color='DeepSkyBlue',\n",
        "            ),row=1, col=1)\n",
        "fig.add_trace(go.Bar(\n",
        "            x = amazon_results[1][amazon_results[1].columns[0]].head(),\n",
        "            y = amazon_results[1][amazon_results[1].columns[1]].head(),\n",
        "            marker_color='DeepSkyBlue',\n",
        "            ),row=1, col=2)\n",
        "fig.add_trace(go.Bar(\n",
        "            x = amazon_results[2][amazon_results[2].columns[0]].head(),\n",
        "            y = amazon_results[2][amazon_results[2].columns[1]].head(),\n",
        "            marker_color='DeepSkyBlue',\n",
        "            ),row=1, col=3)\n",
        "    # neu\n",
        "fig.add_trace(go.Bar(\n",
        "            x = amazon_results[3][amazon_results[3].columns[0]].head(),\n",
        "            y = amazon_results[3][amazon_results[3].columns[1]].head(),\n",
        "            marker_color='DeepSkyBlue',\n",
        "            ),row=1, col=4)\n",
        "fig.add_trace(go.Bar(\n",
        "            x = amazon_results[4][amazon_results[4].columns[0]].head(),\n",
        "            y = amazon_results[4][amazon_results[4].columns[1]].head(),\n",
        "            marker_color='Lightgrey',\n",
        "            ),row=2, col=1)\n",
        "fig.add_trace(go.Bar(\n",
        "            x = amazon_results[5][amazon_results[5].columns[0]].head(),\n",
        "            y = amazon_results[5][amazon_results[5].columns[1]].head(),\n",
        "            marker_color='Lightgrey',\n",
        "            ),row=2, col=2)\n",
        "    # neg\n",
        "fig.add_trace(go.Bar(\n",
        "            x = amazon_results[6][amazon_results[6].columns[0]].head(),\n",
        "            y = amazon_results[6][amazon_results[6].columns[1]].head(),\n",
        "            marker_color='Lightgrey',\n",
        "            ),row=2, col=3)\n",
        "fig.add_trace(go.Bar(\n",
        "            x = amazon_results[7][amazon_results[7].columns[0]].head(),\n",
        "            y = amazon_results[7][amazon_results[7].columns[1]].head(),\n",
        "            marker_color='Lightgrey',\n",
        "            ),row=2, col=4)\n",
        "fig.add_trace(go.Bar(\n",
        "            x = amazon_results[8][amazon_results[8].columns[0]].head(),\n",
        "            y = amazon_results[8][amazon_results[8].columns[1]].head(),\n",
        "            marker_color='Crimson',\n",
        "            ),row=3, col=1)\n",
        "fig.add_trace(go.Bar(\n",
        "            x = amazon_results[9][amazon_results[9].columns[0]].head(),\n",
        "            y = amazon_results[9][amazon_results[9].columns[1]].head(),\n",
        "            marker_color='Crimson',\n",
        "            ),row=3, col=2)\n",
        "fig.add_trace(go.Bar(\n",
        "            x = amazon_results[10][amazon_results[10].columns[0]].head(),\n",
        "            y = amazon_results[10][amazon_results[10].columns[1]].head(),\n",
        "            marker_color='Crimson',\n",
        "            ),row=3, col=3)\n",
        "fig.add_trace(go.Bar(\n",
        "            x = amazon_results[11][amazon_results[11].columns[0]].head(),\n",
        "            y = amazon_results[11][amazon_results[11].columns[1]].head(),\n",
        "            marker_color='Crimson',\n",
        "            ),row=3, col=4)\n",
        "\n",
        "\n",
        "    \n",
        "#\n",
        "fig.update_layout({\"showlegend\": False},height=900, width=1000)\n",
        "plt.savefig(\"N_Gram.png\")\n",
        "\n",
        "fig.show()"
      ],
      "metadata": {
        "id": "v4m7hCqMvW2q",
        "colab": {
          "base_uri": "https://localhost:8080/",
          "height": 934
        },
        "outputId": "f3b5e508-3284-4b3e-e38b-ef16fd770316"
      },
      "execution_count": 53,
      "outputs": [
        {
          "output_type": "display_data",
          "data": {
            "text/html": [
              "<html>\n",
              "<head><meta charset=\"utf-8\" /></head>\n",
              "<body>\n",
              "    <div>            <script src=\"https://cdnjs.cloudflare.com/ajax/libs/mathjax/2.7.5/MathJax.js?config=TeX-AMS-MML_SVG\"></script><script type=\"text/javascript\">if (window.MathJax) {MathJax.Hub.Config({SVG: {font: \"STIX-Web\"}});}</script>                <script type=\"text/javascript\">window.PlotlyConfig = {MathJaxConfig: 'local'};</script>\n",
              "        <script src=\"https://cdn.plot.ly/plotly-2.8.3.min.js\"></script>                <div id=\"29cb2292-73c6-4073-a161-687e4c397e64\" class=\"plotly-graph-div\" style=\"height:900px; width:1000px;\"></div>            <script type=\"text/javascript\">                                    window.PLOTLYENV=window.PLOTLYENV || {};                                    if (document.getElementById(\"29cb2292-73c6-4073-a161-687e4c397e64\")) {                    Plotly.newPlot(                        \"29cb2292-73c6-4073-a161-687e4c397e64\",                        [{\"marker\":{\"color\":\"DeepSkyBlue\"},\"x\":[\"amazon\",\"app\",\"shop\",\"love\",\"great\"],\"y\":[7123,4560,3316,3058,2509],\"type\":\"bar\",\"xaxis\":\"x\",\"yaxis\":\"y\"},{\"marker\":{\"color\":\"DeepSkyBlue\"},\"x\":[\"love amazon\",\"customer service\",\"shop amazon\",\"easy use\",\"amazon prime\"],\"y\":[990,707,584,497,463],\"type\":\"bar\",\"xaxis\":\"x2\",\"yaxis\":\"y2\"},{\"marker\":{\"color\":\"DeepSkyBlue\"},\"x\":[\"love shop amazon\",\"love amazon shop\",\"app easy use\",\"give dig star\",\"love amazon prime\"],\"y\":[238,100,96,85,79],\"type\":\"bar\",\"xaxis\":\"x3\",\"yaxis\":\"y3\"},{\"marker\":{\"color\":\"DeepSkyBlue\"},\"x\":[\"love love love amazon\",\"would give dig star\",\"make life much easier\",\"best shop app ever\",\"love shop amazon always\"],\"y\":[22,21,20,19,17],\"type\":\"bar\",\"xaxis\":\"x4\",\"yaxis\":\"y4\"},{\"marker\":{\"color\":\"Lightgrey\"},\"x\":[\"app\",\"amazon\",\"get\",\"dig\",\"use\"],\"y\":[4185,2097,1760,1602,1563],\"type\":\"bar\",\"xaxis\":\"x5\",\"yaxis\":\"y5\"},{\"marker\":{\"color\":\"Lightgrey\"},\"x\":[\"dig star\",\"please fix\",\"customer service\",\"dig dig\",\"every time\"],\"y\":[243,223,219,173,168],\"type\":\"bar\",\"xaxis\":\"x6\",\"yaxis\":\"y6\"},{\"marker\":{\"color\":\"Lightgrey\"},\"x\":[\"give dig star\",\"something go wrong\",\"would give dig\",\"app keep crash\",\"dig day ship\"],\"y\":[80,65,41,40,38],\"type\":\"bar\",\"xaxis\":\"x7\",\"yaxis\":\"y7\"},{\"marker\":{\"color\":\"Lightgrey\"},\"x\":[\"would give dig star\",\"oh something go wrong\",\"uh oh something go\",\"something go wrong end\",\"every time open app\"],\"y\":[26,24,22,22,20],\"type\":\"bar\",\"xaxis\":\"x8\",\"yaxis\":\"y8\"},{\"marker\":{\"color\":\"Crimson\"},\"x\":[\"app\",\"amazon\",\"get\",\"order\",\"use\"],\"y\":[8669,6515,4044,3750,3600],\"type\":\"bar\",\"xaxis\":\"x9\",\"yaxis\":\"y9\"},{\"marker\":{\"color\":\"Crimson\"},\"x\":[\"customer service\",\"use app\",\"every time\",\"amazon app\",\"use amazon\"],\"y\":[1112,453,398,389,384],\"type\":\"bar\",\"xaxis\":\"x10\",\"yaxis\":\"y10\"},{\"marker\":{\"color\":\"Crimson\"},\"x\":[\"something go wrong\",\"dig day ship\",\"go wrong end\",\"contact customer service\",\"uh oh something\"],\"y\":[219,134,111,90,87],\"type\":\"bar\",\"xaxis\":\"x11\",\"yaxis\":\"y11\"},{\"marker\":{\"color\":\"Crimson\"},\"x\":[\"something go wrong end\",\"oh something go wrong\",\"uh oh something go\",\"every time open app\",\"oops something go wrong\"],\"y\":[109,85,80,58,43],\"type\":\"bar\",\"xaxis\":\"x12\",\"yaxis\":\"y12\"}],                        {\"template\":{\"data\":{\"bar\":[{\"error_x\":{\"color\":\"#2a3f5f\"},\"error_y\":{\"color\":\"#2a3f5f\"},\"marker\":{\"line\":{\"color\":\"#E5ECF6\",\"width\":0.5},\"pattern\":{\"fillmode\":\"overlay\",\"size\":10,\"solidity\":0.2}},\"type\":\"bar\"}],\"barpolar\":[{\"marker\":{\"line\":{\"color\":\"#E5ECF6\",\"width\":0.5},\"pattern\":{\"fillmode\":\"overlay\",\"size\":10,\"solidity\":0.2}},\"type\":\"barpolar\"}],\"carpet\":[{\"aaxis\":{\"endlinecolor\":\"#2a3f5f\",\"gridcolor\":\"white\",\"linecolor\":\"white\",\"minorgridcolor\":\"white\",\"startlinecolor\":\"#2a3f5f\"},\"baxis\":{\"endlinecolor\":\"#2a3f5f\",\"gridcolor\":\"white\",\"linecolor\":\"white\",\"minorgridcolor\":\"white\",\"startlinecolor\":\"#2a3f5f\"},\"type\":\"carpet\"}],\"choropleth\":[{\"colorbar\":{\"outlinewidth\":0,\"ticks\":\"\"},\"type\":\"choropleth\"}],\"contour\":[{\"colorbar\":{\"outlinewidth\":0,\"ticks\":\"\"},\"colorscale\":[[0.0,\"#0d0887\"],[0.1111111111111111,\"#46039f\"],[0.2222222222222222,\"#7201a8\"],[0.3333333333333333,\"#9c179e\"],[0.4444444444444444,\"#bd3786\"],[0.5555555555555556,\"#d8576b\"],[0.6666666666666666,\"#ed7953\"],[0.7777777777777778,\"#fb9f3a\"],[0.8888888888888888,\"#fdca26\"],[1.0,\"#f0f921\"]],\"type\":\"contour\"}],\"contourcarpet\":[{\"colorbar\":{\"outlinewidth\":0,\"ticks\":\"\"},\"type\":\"contourcarpet\"}],\"heatmap\":[{\"colorbar\":{\"outlinewidth\":0,\"ticks\":\"\"},\"colorscale\":[[0.0,\"#0d0887\"],[0.1111111111111111,\"#46039f\"],[0.2222222222222222,\"#7201a8\"],[0.3333333333333333,\"#9c179e\"],[0.4444444444444444,\"#bd3786\"],[0.5555555555555556,\"#d8576b\"],[0.6666666666666666,\"#ed7953\"],[0.7777777777777778,\"#fb9f3a\"],[0.8888888888888888,\"#fdca26\"],[1.0,\"#f0f921\"]],\"type\":\"heatmap\"}],\"heatmapgl\":[{\"colorbar\":{\"outlinewidth\":0,\"ticks\":\"\"},\"colorscale\":[[0.0,\"#0d0887\"],[0.1111111111111111,\"#46039f\"],[0.2222222222222222,\"#7201a8\"],[0.3333333333333333,\"#9c179e\"],[0.4444444444444444,\"#bd3786\"],[0.5555555555555556,\"#d8576b\"],[0.6666666666666666,\"#ed7953\"],[0.7777777777777778,\"#fb9f3a\"],[0.8888888888888888,\"#fdca26\"],[1.0,\"#f0f921\"]],\"type\":\"heatmapgl\"}],\"histogram\":[{\"marker\":{\"pattern\":{\"fillmode\":\"overlay\",\"size\":10,\"solidity\":0.2}},\"type\":\"histogram\"}],\"histogram2d\":[{\"colorbar\":{\"outlinewidth\":0,\"ticks\":\"\"},\"colorscale\":[[0.0,\"#0d0887\"],[0.1111111111111111,\"#46039f\"],[0.2222222222222222,\"#7201a8\"],[0.3333333333333333,\"#9c179e\"],[0.4444444444444444,\"#bd3786\"],[0.5555555555555556,\"#d8576b\"],[0.6666666666666666,\"#ed7953\"],[0.7777777777777778,\"#fb9f3a\"],[0.8888888888888888,\"#fdca26\"],[1.0,\"#f0f921\"]],\"type\":\"histogram2d\"}],\"histogram2dcontour\":[{\"colorbar\":{\"outlinewidth\":0,\"ticks\":\"\"},\"colorscale\":[[0.0,\"#0d0887\"],[0.1111111111111111,\"#46039f\"],[0.2222222222222222,\"#7201a8\"],[0.3333333333333333,\"#9c179e\"],[0.4444444444444444,\"#bd3786\"],[0.5555555555555556,\"#d8576b\"],[0.6666666666666666,\"#ed7953\"],[0.7777777777777778,\"#fb9f3a\"],[0.8888888888888888,\"#fdca26\"],[1.0,\"#f0f921\"]],\"type\":\"histogram2dcontour\"}],\"mesh3d\":[{\"colorbar\":{\"outlinewidth\":0,\"ticks\":\"\"},\"type\":\"mesh3d\"}],\"parcoords\":[{\"line\":{\"colorbar\":{\"outlinewidth\":0,\"ticks\":\"\"}},\"type\":\"parcoords\"}],\"pie\":[{\"automargin\":true,\"type\":\"pie\"}],\"scatter\":[{\"marker\":{\"colorbar\":{\"outlinewidth\":0,\"ticks\":\"\"}},\"type\":\"scatter\"}],\"scatter3d\":[{\"line\":{\"colorbar\":{\"outlinewidth\":0,\"ticks\":\"\"}},\"marker\":{\"colorbar\":{\"outlinewidth\":0,\"ticks\":\"\"}},\"type\":\"scatter3d\"}],\"scattercarpet\":[{\"marker\":{\"colorbar\":{\"outlinewidth\":0,\"ticks\":\"\"}},\"type\":\"scattercarpet\"}],\"scattergeo\":[{\"marker\":{\"colorbar\":{\"outlinewidth\":0,\"ticks\":\"\"}},\"type\":\"scattergeo\"}],\"scattergl\":[{\"marker\":{\"colorbar\":{\"outlinewidth\":0,\"ticks\":\"\"}},\"type\":\"scattergl\"}],\"scattermapbox\":[{\"marker\":{\"colorbar\":{\"outlinewidth\":0,\"ticks\":\"\"}},\"type\":\"scattermapbox\"}],\"scatterpolar\":[{\"marker\":{\"colorbar\":{\"outlinewidth\":0,\"ticks\":\"\"}},\"type\":\"scatterpolar\"}],\"scatterpolargl\":[{\"marker\":{\"colorbar\":{\"outlinewidth\":0,\"ticks\":\"\"}},\"type\":\"scatterpolargl\"}],\"scatterternary\":[{\"marker\":{\"colorbar\":{\"outlinewidth\":0,\"ticks\":\"\"}},\"type\":\"scatterternary\"}],\"surface\":[{\"colorbar\":{\"outlinewidth\":0,\"ticks\":\"\"},\"colorscale\":[[0.0,\"#0d0887\"],[0.1111111111111111,\"#46039f\"],[0.2222222222222222,\"#7201a8\"],[0.3333333333333333,\"#9c179e\"],[0.4444444444444444,\"#bd3786\"],[0.5555555555555556,\"#d8576b\"],[0.6666666666666666,\"#ed7953\"],[0.7777777777777778,\"#fb9f3a\"],[0.8888888888888888,\"#fdca26\"],[1.0,\"#f0f921\"]],\"type\":\"surface\"}],\"table\":[{\"cells\":{\"fill\":{\"color\":\"#EBF0F8\"},\"line\":{\"color\":\"white\"}},\"header\":{\"fill\":{\"color\":\"#C8D4E3\"},\"line\":{\"color\":\"white\"}},\"type\":\"table\"}]},\"layout\":{\"annotationdefaults\":{\"arrowcolor\":\"#2a3f5f\",\"arrowhead\":0,\"arrowwidth\":1},\"autotypenumbers\":\"strict\",\"coloraxis\":{\"colorbar\":{\"outlinewidth\":0,\"ticks\":\"\"}},\"colorscale\":{\"diverging\":[[0,\"#8e0152\"],[0.1,\"#c51b7d\"],[0.2,\"#de77ae\"],[0.3,\"#f1b6da\"],[0.4,\"#fde0ef\"],[0.5,\"#f7f7f7\"],[0.6,\"#e6f5d0\"],[0.7,\"#b8e186\"],[0.8,\"#7fbc41\"],[0.9,\"#4d9221\"],[1,\"#276419\"]],\"sequential\":[[0.0,\"#0d0887\"],[0.1111111111111111,\"#46039f\"],[0.2222222222222222,\"#7201a8\"],[0.3333333333333333,\"#9c179e\"],[0.4444444444444444,\"#bd3786\"],[0.5555555555555556,\"#d8576b\"],[0.6666666666666666,\"#ed7953\"],[0.7777777777777778,\"#fb9f3a\"],[0.8888888888888888,\"#fdca26\"],[1.0,\"#f0f921\"]],\"sequentialminus\":[[0.0,\"#0d0887\"],[0.1111111111111111,\"#46039f\"],[0.2222222222222222,\"#7201a8\"],[0.3333333333333333,\"#9c179e\"],[0.4444444444444444,\"#bd3786\"],[0.5555555555555556,\"#d8576b\"],[0.6666666666666666,\"#ed7953\"],[0.7777777777777778,\"#fb9f3a\"],[0.8888888888888888,\"#fdca26\"],[1.0,\"#f0f921\"]]},\"colorway\":[\"#636efa\",\"#EF553B\",\"#00cc96\",\"#ab63fa\",\"#FFA15A\",\"#19d3f3\",\"#FF6692\",\"#B6E880\",\"#FF97FF\",\"#FECB52\"],\"font\":{\"color\":\"#2a3f5f\"},\"geo\":{\"bgcolor\":\"white\",\"lakecolor\":\"white\",\"landcolor\":\"#E5ECF6\",\"showlakes\":true,\"showland\":true,\"subunitcolor\":\"white\"},\"hoverlabel\":{\"align\":\"left\"},\"hovermode\":\"closest\",\"mapbox\":{\"style\":\"light\"},\"paper_bgcolor\":\"white\",\"plot_bgcolor\":\"#E5ECF6\",\"polar\":{\"angularaxis\":{\"gridcolor\":\"white\",\"linecolor\":\"white\",\"ticks\":\"\"},\"bgcolor\":\"#E5ECF6\",\"radialaxis\":{\"gridcolor\":\"white\",\"linecolor\":\"white\",\"ticks\":\"\"}},\"scene\":{\"xaxis\":{\"backgroundcolor\":\"#E5ECF6\",\"gridcolor\":\"white\",\"gridwidth\":2,\"linecolor\":\"white\",\"showbackground\":true,\"ticks\":\"\",\"zerolinecolor\":\"white\"},\"yaxis\":{\"backgroundcolor\":\"#E5ECF6\",\"gridcolor\":\"white\",\"gridwidth\":2,\"linecolor\":\"white\",\"showbackground\":true,\"ticks\":\"\",\"zerolinecolor\":\"white\"},\"zaxis\":{\"backgroundcolor\":\"#E5ECF6\",\"gridcolor\":\"white\",\"gridwidth\":2,\"linecolor\":\"white\",\"showbackground\":true,\"ticks\":\"\",\"zerolinecolor\":\"white\"}},\"shapedefaults\":{\"line\":{\"color\":\"#2a3f5f\"}},\"ternary\":{\"aaxis\":{\"gridcolor\":\"white\",\"linecolor\":\"white\",\"ticks\":\"\"},\"baxis\":{\"gridcolor\":\"white\",\"linecolor\":\"white\",\"ticks\":\"\"},\"bgcolor\":\"#E5ECF6\",\"caxis\":{\"gridcolor\":\"white\",\"linecolor\":\"white\",\"ticks\":\"\"}},\"title\":{\"x\":0.05},\"xaxis\":{\"automargin\":true,\"gridcolor\":\"white\",\"linecolor\":\"white\",\"ticks\":\"\",\"title\":{\"standoff\":15},\"zerolinecolor\":\"white\",\"zerolinewidth\":2},\"yaxis\":{\"automargin\":true,\"gridcolor\":\"white\",\"linecolor\":\"white\",\"ticks\":\"\",\"title\":{\"standoff\":15},\"zerolinecolor\":\"white\",\"zerolinewidth\":2}}},\"xaxis\":{\"anchor\":\"y\",\"domain\":[0.0,0.2075]},\"yaxis\":{\"anchor\":\"x\",\"domain\":[0.7666666666666666,0.9999999999999999]},\"xaxis2\":{\"anchor\":\"y2\",\"domain\":[0.2575,0.46499999999999997]},\"yaxis2\":{\"anchor\":\"x2\",\"domain\":[0.7666666666666666,0.9999999999999999]},\"xaxis3\":{\"anchor\":\"y3\",\"domain\":[0.515,0.7225]},\"yaxis3\":{\"anchor\":\"x3\",\"domain\":[0.7666666666666666,0.9999999999999999]},\"xaxis4\":{\"anchor\":\"y4\",\"domain\":[0.7725,0.98]},\"yaxis4\":{\"anchor\":\"x4\",\"domain\":[0.7666666666666666,0.9999999999999999]},\"xaxis5\":{\"anchor\":\"y5\",\"domain\":[0.0,0.2075]},\"yaxis5\":{\"anchor\":\"x5\",\"domain\":[0.3833333333333333,0.6166666666666666]},\"xaxis6\":{\"anchor\":\"y6\",\"domain\":[0.2575,0.46499999999999997]},\"yaxis6\":{\"anchor\":\"x6\",\"domain\":[0.3833333333333333,0.6166666666666666]},\"xaxis7\":{\"anchor\":\"y7\",\"domain\":[0.515,0.7225]},\"yaxis7\":{\"anchor\":\"x7\",\"domain\":[0.3833333333333333,0.6166666666666666]},\"xaxis8\":{\"anchor\":\"y8\",\"domain\":[0.7725,0.98]},\"yaxis8\":{\"anchor\":\"x8\",\"domain\":[0.3833333333333333,0.6166666666666666]},\"xaxis9\":{\"anchor\":\"y9\",\"domain\":[0.0,0.2075]},\"yaxis9\":{\"anchor\":\"x9\",\"domain\":[0.0,0.2333333333333333]},\"xaxis10\":{\"anchor\":\"y10\",\"domain\":[0.2575,0.46499999999999997]},\"yaxis10\":{\"anchor\":\"x10\",\"domain\":[0.0,0.2333333333333333]},\"xaxis11\":{\"anchor\":\"y11\",\"domain\":[0.515,0.7225]},\"yaxis11\":{\"anchor\":\"x11\",\"domain\":[0.0,0.2333333333333333]},\"xaxis12\":{\"anchor\":\"y12\",\"domain\":[0.7725,0.98]},\"yaxis12\":{\"anchor\":\"x12\",\"domain\":[0.0,0.2333333333333333]},\"annotations\":[{\"font\":{\"size\":16},\"showarrow\":false,\"text\":\"Mono-grams\",\"x\":0.10375,\"xanchor\":\"center\",\"xref\":\"paper\",\"y\":0.9999999999999999,\"yanchor\":\"bottom\",\"yref\":\"paper\"},{\"font\":{\"size\":16},\"showarrow\":false,\"text\":\"Bi-grams\",\"x\":0.36124999999999996,\"xanchor\":\"center\",\"xref\":\"paper\",\"y\":0.9999999999999999,\"yanchor\":\"bottom\",\"yref\":\"paper\"},{\"font\":{\"size\":16},\"showarrow\":false,\"text\":\"Tri-grams\",\"x\":0.61875,\"xanchor\":\"center\",\"xref\":\"paper\",\"y\":0.9999999999999999,\"yanchor\":\"bottom\",\"yref\":\"paper\"},{\"font\":{\"size\":16},\"showarrow\":false,\"text\":\"Tetra-grams\",\"x\":0.87625,\"xanchor\":\"center\",\"xref\":\"paper\",\"y\":0.9999999999999999,\"yanchor\":\"bottom\",\"yref\":\"paper\"},{\"font\":{\"size\":16},\"showarrow\":false,\"text\":\"Positive\",\"textangle\":90,\"x\":0.98,\"xanchor\":\"left\",\"xref\":\"paper\",\"y\":0.8833333333333333,\"yanchor\":\"middle\",\"yref\":\"paper\"},{\"font\":{\"size\":16},\"showarrow\":false,\"text\":\"Neutral\",\"textangle\":90,\"x\":0.98,\"xanchor\":\"left\",\"xref\":\"paper\",\"y\":0.49999999999999994,\"yanchor\":\"middle\",\"yref\":\"paper\"},{\"font\":{\"size\":16},\"showarrow\":false,\"text\":\"Negative\",\"textangle\":90,\"x\":0.98,\"xanchor\":\"left\",\"xref\":\"paper\",\"y\":0.11666666666666665,\"yanchor\":\"middle\",\"yref\":\"paper\"}],\"showlegend\":false,\"height\":900,\"width\":1000},                        {\"responsive\": true}                    ).then(function(){\n",
              "                            \n",
              "var gd = document.getElementById('29cb2292-73c6-4073-a161-687e4c397e64');\n",
              "var x = new MutationObserver(function (mutations, observer) {{\n",
              "        var display = window.getComputedStyle(gd).display;\n",
              "        if (!display || display === 'none') {{\n",
              "            console.log([gd, 'removed!']);\n",
              "            Plotly.purge(gd);\n",
              "            observer.disconnect();\n",
              "        }}\n",
              "}});\n",
              "\n",
              "// Listen for the removal of the full notebook cells\n",
              "var notebookContainer = gd.closest('#notebook-container');\n",
              "if (notebookContainer) {{\n",
              "    x.observe(notebookContainer, {childList: true});\n",
              "}}\n",
              "\n",
              "// Listen for the clearing of the current output cell\n",
              "var outputEl = gd.closest('.output');\n",
              "if (outputEl) {{\n",
              "    x.observe(outputEl, {childList: true});\n",
              "}}\n",
              "\n",
              "                        })                };                            </script>        </div>\n",
              "</body>\n",
              "</html>"
            ]
          },
          "metadata": {}
        },
        {
          "output_type": "display_data",
          "data": {
            "text/plain": [
              "<Figure size 432x288 with 0 Axes>"
            ]
          },
          "metadata": {}
        }
      ]
    },
    {
      "cell_type": "code",
      "source": [
        "from sklearn.model_selection import train_test_split"
      ],
      "metadata": {
        "id": "UPUN9A9XviUc"
      },
      "execution_count": 54,
      "outputs": []
    },
    {
      "cell_type": "code",
      "source": [
        "y =  df[df.columns[1:]].values"
      ],
      "metadata": {
        "id": "c9aqvUSov1NR"
      },
      "execution_count": 55,
      "outputs": []
    },
    {
      "cell_type": "code",
      "source": [
        "X = []\n",
        "\n",
        "sentences = list(df[\"reviews\"])\n",
        "for sen in sentences:\n",
        "    X.append(sen)"
      ],
      "metadata": {
        "id": "CILflr3Cv3xL"
      },
      "execution_count": 56,
      "outputs": []
    },
    {
      "cell_type": "code",
      "source": [
        "X_train, X_test, y_train, y_test = train_test_split(X, y, test_size=0.20, random_state=42)"
      ],
      "metadata": {
        "id": "Iuifsx5Av6sp"
      },
      "execution_count": 57,
      "outputs": []
    },
    {
      "cell_type": "code",
      "source": [
        "from tensorflow.keras.preprocessing.text import Tokenizer\n",
        "from tensorflow.keras.preprocessing.sequence import pad_sequences"
      ],
      "metadata": {
        "id": "k79fIJqyv9dQ"
      },
      "execution_count": 58,
      "outputs": []
    },
    {
      "cell_type": "code",
      "source": [
        "# Defining the num of words\n",
        "tokenizer = Tokenizer(num_words=5000)\n",
        "# Fighting in the X df\n",
        "tokenizer.fit_on_texts(X)\n",
        "\n",
        "# Tokenizing Train and test\n",
        "\n",
        "X_prep = tokenizer.texts_to_sequences(X_train)\n",
        "X_test = tokenizer.texts_to_sequences(X_test)\n",
        "\n",
        "vocab_size = len(tokenizer.word_index) + 1\n",
        "\n",
        "# Setting the max length of features\n",
        "\n",
        "maxlen = 200\n",
        "\n",
        "# Ensuring the all sequences have the same length\n",
        "X_train = pad_sequences(X_prep, padding='post', maxlen=maxlen)\n",
        "X_test = pad_sequences(X_test, padding='post', maxlen=maxlen)"
      ],
      "metadata": {
        "id": "xhMa_SSOwANw"
      },
      "execution_count": 59,
      "outputs": []
    },
    {
      "cell_type": "code",
      "source": [
        "from numpy import array\n",
        "from numpy import asarray\n",
        "from numpy import zeros"
      ],
      "metadata": {
        "id": "EzrMrzUnwDeo"
      },
      "execution_count": 60,
      "outputs": []
    },
    {
      "cell_type": "code",
      "source": [
        "embeddings_dictionary = dict()\n",
        "\n",
        "glove_file = open('/content/drive/MyDrive/ML /amazon_app.txt', encoding=\"utf8\")\n",
        "\n",
        "for line in glove_file:\n",
        "    records = line.split()\n",
        "    word = records[0]\n",
        "    vector_dimensions = asarray(records[1:], dtype='float32')\n",
        "    embeddings_dictionary[word] = vector_dimensions\n",
        "glove_file.close()\n",
        "\n",
        "embedding_matrix = zeros((vocab_size, 100))\n",
        "for word, index in tokenizer.word_index.items():\n",
        "    embedding_vector = embeddings_dictionary.get(word)\n",
        "    if embedding_vector is not None:\n",
        "        embedding_matrix[index] = embedding_vector"
      ],
      "metadata": {
        "id": "DNUnXUupwHA0"
      },
      "execution_count": 61,
      "outputs": []
    },
    {
      "cell_type": "code",
      "source": [
        "print('Negative',pd.DataFrame(y_train).sum()[0])\n",
        "print('Neutral',pd.DataFrame(y_train).sum()[1])\n",
        "print('Positve',pd.DataFrame(y_train).sum()[2])"
      ],
      "metadata": {
        "id": "oLvAzI3iwTny",
        "colab": {
          "base_uri": "https://localhost:8080/"
        },
        "outputId": "b2e4fad0-406f-4d1a-9d9c-f22145bf32d3"
      },
      "execution_count": 62,
      "outputs": [
        {
          "output_type": "stream",
          "name": "stdout",
          "text": [
            "Negative 38175\n",
            "Neutral 6456\n",
            "Positve 47394\n"
          ]
        }
      ]
    },
    {
      "cell_type": "code",
      "source": [
        "from imblearn.over_sampling import RandomOverSampler"
      ],
      "metadata": {
        "id": "SMrKVhJuxxnn"
      },
      "execution_count": 63,
      "outputs": []
    },
    {
      "cell_type": "code",
      "source": [
        "over = RandomOverSampler()\n",
        "    \n",
        "X_ov, y_ov = over.fit_resample(X_train, y_train)"
      ],
      "metadata": {
        "id": "tXeMI-kCx0l4"
      },
      "execution_count": 64,
      "outputs": []
    },
    {
      "cell_type": "code",
      "source": [
        "print('Negative',pd.DataFrame(y_ov).sum()[0])\n",
        "print('Neutral',pd.DataFrame(y_ov).sum()[1])\n",
        "print('Positve',pd.DataFrame(y_ov).sum()[2])\n"
      ],
      "metadata": {
        "id": "j57ga7kax3H9",
        "colab": {
          "base_uri": "https://localhost:8080/"
        },
        "outputId": "f4e1aa45-6ddd-4f7f-f6a7-e5adc63eb48a"
      },
      "execution_count": 65,
      "outputs": [
        {
          "output_type": "stream",
          "name": "stdout",
          "text": [
            "Negative 47394\n",
            "Neutral 47394\n",
            "Positve 47394\n"
          ]
        }
      ]
    },
    {
      "cell_type": "code",
      "source": [
        "from sklearn.feature_selection import f_classif, SelectKBest"
      ],
      "metadata": {
        "id": "nQmUUaJVx5Oo"
      },
      "execution_count": 66,
      "outputs": []
    },
    {
      "cell_type": "code",
      "source": [
        "selected_features = [] \n",
        "for label in range(0,3):\n",
        "    selector = SelectKBest(f_classif, k='all')\n",
        "    selector.fit(X_ov, pd.DataFrame(y_ov)[label])\n",
        "    selected_features.append(list(selector.scores_))"
      ],
      "metadata": {
        "id": "6nWn8wFKx8tE",
        "colab": {
          "base_uri": "https://localhost:8080/"
        },
        "outputId": "45f317ed-3020-471d-fbca-292f6ee11ea4"
      },
      "execution_count": 67,
      "outputs": [
        {
          "output_type": "stream",
          "name": "stderr",
          "text": [
            "/usr/local/lib/python3.8/dist-packages/sklearn/feature_selection/_univariate_selection.py:112: UserWarning:\n",
            "\n",
            "Features [186 187 188 189 190 191 192 193 194 195 196 197 198 199] are constant.\n",
            "\n",
            "/usr/local/lib/python3.8/dist-packages/sklearn/feature_selection/_univariate_selection.py:113: RuntimeWarning:\n",
            "\n",
            "invalid value encountered in true_divide\n",
            "\n",
            "/usr/local/lib/python3.8/dist-packages/sklearn/feature_selection/_univariate_selection.py:112: UserWarning:\n",
            "\n",
            "Features [186 187 188 189 190 191 192 193 194 195 196 197 198 199] are constant.\n",
            "\n",
            "/usr/local/lib/python3.8/dist-packages/sklearn/feature_selection/_univariate_selection.py:113: RuntimeWarning:\n",
            "\n",
            "invalid value encountered in true_divide\n",
            "\n",
            "/usr/local/lib/python3.8/dist-packages/sklearn/feature_selection/_univariate_selection.py:112: UserWarning:\n",
            "\n",
            "Features [186 187 188 189 190 191 192 193 194 195 196 197 198 199] are constant.\n",
            "\n",
            "/usr/local/lib/python3.8/dist-packages/sklearn/feature_selection/_univariate_selection.py:113: RuntimeWarning:\n",
            "\n",
            "invalid value encountered in true_divide\n",
            "\n"
          ]
        }
      ]
    },
    {
      "cell_type": "code",
      "source": [
        "plt.figure(figsize=(8, 5))\n",
        "plt.plot(selected_features[0])\n",
        "plt.plot(selected_features[1])\n",
        "plt.plot(selected_features[2])\n",
        "\n",
        "plt.title('ANOVA F-value')\n",
        "plt.ylabel('F-value')\n",
        "plt.xlabel('n_feature')\n",
        "plt.legend(['negative','neutral','positive'], loc='upper right')\n",
        "\n",
        "\n",
        "plt.show()"
      ],
      "metadata": {
        "id": "GwnsIH3Ix-1B",
        "colab": {
          "base_uri": "https://localhost:8080/",
          "height": 351
        },
        "outputId": "47307c75-e163-49aa-bd48-5e5cbb4879f0"
      },
      "execution_count": 68,
      "outputs": [
        {
          "output_type": "display_data",
          "data": {
            "text/plain": [
              "<Figure size 576x360 with 1 Axes>"
            ],
            "image/png": "[encoded data removed]"
          },
          "metadata": {
            "needs_background": "light"
          }
        }
      ]
    },
    {
      "cell_type": "code",
      "source": [
        "plt.figure(figsize=(8, 5))\n",
        "plt.plot(pd.DataFrame(selected_features).T[:20][0])\n",
        "plt.plot(pd.DataFrame(selected_features).T[:20][1])\n",
        "plt.plot(pd.DataFrame(selected_features).T[:20][2])\n",
        "\n",
        "plt.title('ANOVA F-value')\n",
        "plt.ylabel('F-value')\n",
        "plt.xlabel('n_feature')\n",
        "plt.legend(['negative','neutral','positive'], loc='upper right')\n",
        "\n",
        "plt.show()"
      ],
      "metadata": {
        "id": "3WgByf7cyCHs",
        "colab": {
          "base_uri": "https://localhost:8080/",
          "height": 351
        },
        "outputId": "22752f2f-0481-4166-92b7-84be06ce840d"
      },
      "execution_count": 69,
      "outputs": [
        {
          "output_type": "display_data",
          "data": {
            "text/plain": [
              "<Figure size 576x360 with 1 Axes>"
            ],
            "image/png": "[encoded data removed]"
          },
          "metadata": {
            "needs_background": "light"
          }
        }
      ]
    },
    {
      "cell_type": "code",
      "source": [
        "X_ov=X_ov[:,:20]"
      ],
      "metadata": {
        "id": "eyr6zpQAyF-m"
      },
      "execution_count": 70,
      "outputs": []
    },
    {
      "cell_type": "code",
      "source": [
        "from tensorflow.keras import backend as K"
      ],
      "metadata": {
        "id": "8K8hYen-yOWF"
      },
      "execution_count": 71,
      "outputs": []
    },
    {
      "cell_type": "code",
      "source": [
        "def recall_m(y_true, y_pred):\n",
        "    true_positives = K.sum(K.round(K.clip(y_true * y_pred, 0, 1)))\n",
        "    possible_positives = K.sum(K.round(K.clip(y_true, 0, 1)))\n",
        "    recall = true_positives / (possible_positives + K.epsilon())\n",
        "    return recall\n"
      ],
      "metadata": {
        "id": "Y-b3tOqwyRXU"
      },
      "execution_count": 72,
      "outputs": []
    },
    {
      "cell_type": "code",
      "source": [
        "\n",
        "def precision_m(y_true, y_pred):\n",
        "    true_positives = K.sum(K.round(K.clip(y_true * y_pred, 0, 1)))\n",
        "    predicted_positives = K.sum(K.round(K.clip(y_pred, 0, 1)))\n",
        "    precision = true_positives / (predicted_positives + K.epsilon())\n",
        "    return precision"
      ],
      "metadata": {
        "id": "PermlD4-yUOC"
      },
      "execution_count": 73,
      "outputs": []
    },
    {
      "cell_type": "code",
      "source": [
        "def f1_m(y_true, y_pred):\n",
        "    precision = precision_m(y_true, y_pred)\n",
        "    recall = recall_m(y_true, y_pred)\n",
        "    return 2*((precision*recall)/(precision+recall+K.epsilon()))"
      ],
      "metadata": {
        "id": "Tce8XThgycAx"
      },
      "execution_count": 74,
      "outputs": []
    },
    {
      "cell_type": "code",
      "source": [
        "from tensorflow.keras import Model\n",
        "from tensorflow.keras.layers import Dense, LSTM, Input, Embedding"
      ],
      "metadata": {
        "id": "DDQ6AIePyfuI"
      },
      "execution_count": 75,
      "outputs": []
    },
    {
      "cell_type": "code",
      "source": [
        "deep_inputs = Input(shape=(20,))\n",
        "embedding_layer = Embedding(vocab_size, 100, weights=[embedding_matrix], trainable=False)(deep_inputs)\n",
        "LSTM_Layer_1 = LSTM(128)(embedding_layer)\n",
        "dense_layer_1 = Dense(3, activation='sigmoid')(LSTM_Layer_1)\n",
        "model = Model(inputs=deep_inputs, outputs=dense_layer_1)\n",
        "\n",
        "model.compile(loss='binary_crossentropy', optimizer='adam', metrics=['acc',f1_m,precision_m, recall_m])"
      ],
      "metadata": {
        "id": "1UJQtMjiyio5"
      },
      "execution_count": 76,
      "outputs": []
    },
    {
      "cell_type": "code",
      "source": [
        "print(model.summary())"
      ],
      "metadata": {
        "id": "mVAdcvIwylJ3",
        "colab": {
          "base_uri": "https://localhost:8080/"
        },
        "outputId": "ccb2deea-1805-4334-863d-33ca4522e75b"
      },
      "execution_count": 77,
      "outputs": [
        {
          "output_type": "stream",
          "name": "stdout",
          "text": [
            "Model: \"model\"\n",
            "_________________________________________________________________\n",
            " Layer (type)                Output Shape              Param #   \n",
            "=================================================================\n",
            " input_1 (InputLayer)        [(None, 20)]              0         \n",
            "                                                                 \n",
            " embedding (Embedding)       (None, 20, 100)           3204800   \n",
            "                                                                 \n",
            " lstm (LSTM)                 (None, 128)               117248    \n",
            "                                                                 \n",
            " dense (Dense)               (None, 3)                 387       \n",
            "                                                                 \n",
            "=================================================================\n",
            "Total params: 3,322,435\n",
            "Trainable params: 117,635\n",
            "Non-trainable params: 3,204,800\n",
            "_________________________________________________________________\n",
            "None\n"
          ]
        }
      ]
    },
    {
      "cell_type": "code",
      "source": [
        "from tensorflow.keras.utils import plot_model\n",
        "\n",
        "plot_model(model, to_file='model_plot4a.png', show_shapes=True, show_layer_names=True)"
      ],
      "metadata": {
        "id": "HQQ-Vvy-ypIK",
        "colab": {
          "base_uri": "https://localhost:8080/",
          "height": 422
        },
        "outputId": "769a6671-34dc-473b-c95b-e3214a2d6694"
      },
      "execution_count": 78,
      "outputs": [
        {
          "output_type": "execute_result",
          "data": {
            "image/png": "[encoded data removed]",
            "text/plain": [
              "<IPython.core.display.Image object>"
            ]
          },
          "metadata": {},
          "execution_count": 78
        }
      ]
    },
    {
      "cell_type": "code",
      "source": [
        "history = model.fit(X_ov, y_ov, batch_size=32, epochs=15, verbose=1, validation_split=0.3)"
      ],
      "metadata": {
        "id": "XTYQWms8yvw2",
        "colab": {
          "base_uri": "https://localhost:8080/"
        },
        "outputId": "3469408a-fcc9-46ab-a442-57661936e244"
      },
      "execution_count": 79,
      "outputs": [
        {
          "output_type": "stream",
          "name": "stdout",
          "text": [
            "Epoch 1/15\n",
            "3111/3111 [==============================] - 127s 40ms/step - loss: 0.3107 - acc: 0.8127 - f1_m: 0.8090 - precision_m: 0.8302 - recall_m: 0.7899 - val_loss: 1.1917 - val_acc: 0.0354 - val_f1_m: 0.0348 - val_precision_m: 0.0360 - val_recall_m: 0.0337\n",
            "Epoch 2/15\n",
            "3111/3111 [==============================] - 118s 38ms/step - loss: 0.2764 - acc: 0.8360 - f1_m: 0.8339 - precision_m: 0.8552 - recall_m: 0.8144 - val_loss: 1.3790 - val_acc: 0.0376 - val_f1_m: 0.0358 - val_precision_m: 0.0365 - val_recall_m: 0.0352\n",
            "Epoch 3/15\n",
            "3111/3111 [==============================] - 114s 37ms/step - loss: 0.2631 - acc: 0.8448 - f1_m: 0.8430 - precision_m: 0.8645 - recall_m: 0.8232 - val_loss: 1.3378 - val_acc: 0.0372 - val_f1_m: 0.0349 - val_precision_m: 0.0357 - val_recall_m: 0.0343\n",
            "Epoch 4/15\n",
            "3111/3111 [==============================] - 118s 38ms/step - loss: 0.2529 - acc: 0.8508 - f1_m: 0.8487 - precision_m: 0.8703 - recall_m: 0.8288 - val_loss: 1.1972 - val_acc: 0.0776 - val_f1_m: 0.0472 - val_precision_m: 0.0490 - val_recall_m: 0.0456\n",
            "Epoch 5/15\n",
            "3111/3111 [==============================] - 115s 37ms/step - loss: 0.2431 - acc: 0.8567 - f1_m: 0.8548 - precision_m: 0.8767 - recall_m: 0.8348 - val_loss: 1.1283 - val_acc: 0.0832 - val_f1_m: 0.0478 - val_precision_m: 0.0507 - val_recall_m: 0.0455\n",
            "Epoch 6/15\n",
            "3111/3111 [==============================] - 118s 38ms/step - loss: 0.2323 - acc: 0.8628 - f1_m: 0.8620 - precision_m: 0.8840 - recall_m: 0.8417 - val_loss: 1.1620 - val_acc: 0.0698 - val_f1_m: 0.0484 - val_precision_m: 0.0508 - val_recall_m: 0.0464\n",
            "Epoch 7/15\n",
            "3111/3111 [==============================] - 117s 38ms/step - loss: 0.2219 - acc: 0.8690 - f1_m: 0.8678 - precision_m: 0.8902 - recall_m: 0.8472 - val_loss: 1.0662 - val_acc: 0.1564 - val_f1_m: 0.1097 - val_precision_m: 0.1176 - val_recall_m: 0.1033\n",
            "Epoch 8/15\n",
            "3111/3111 [==============================] - 115s 37ms/step - loss: 0.2099 - acc: 0.8760 - f1_m: 0.8753 - precision_m: 0.8969 - recall_m: 0.8554 - val_loss: 1.1170 - val_acc: 0.1608 - val_f1_m: 0.1278 - val_precision_m: 0.1382 - val_recall_m: 0.1194\n",
            "Epoch 9/15\n",
            "3111/3111 [==============================] - 118s 38ms/step - loss: 0.1982 - acc: 0.8833 - f1_m: 0.8822 - precision_m: 0.9035 - recall_m: 0.8625 - val_loss: 0.9402 - val_acc: 0.2275 - val_f1_m: 0.1656 - val_precision_m: 0.1868 - val_recall_m: 0.1501\n",
            "Epoch 10/15\n",
            "3111/3111 [==============================] - 117s 37ms/step - loss: 0.1856 - acc: 0.8902 - f1_m: 0.8895 - precision_m: 0.9104 - recall_m: 0.8703 - val_loss: 1.0529 - val_acc: 0.2441 - val_f1_m: 0.2031 - val_precision_m: 0.2231 - val_recall_m: 0.1875\n",
            "Epoch 11/15\n",
            "3111/3111 [==============================] - 117s 38ms/step - loss: 0.1743 - acc: 0.8972 - f1_m: 0.8962 - precision_m: 0.9156 - recall_m: 0.8783 - val_loss: 0.8784 - val_acc: 0.3526 - val_f1_m: 0.3180 - val_precision_m: 0.3462 - val_recall_m: 0.2953\n",
            "Epoch 12/15\n",
            "3111/3111 [==============================] - 115s 37ms/step - loss: 0.1628 - acc: 0.9041 - f1_m: 0.9038 - precision_m: 0.9222 - recall_m: 0.8868 - val_loss: 0.8373 - val_acc: 0.3797 - val_f1_m: 0.3262 - val_precision_m: 0.3694 - val_recall_m: 0.2941\n",
            "Epoch 13/15\n",
            "3111/3111 [==============================] - 117s 38ms/step - loss: 0.1511 - acc: 0.9124 - f1_m: 0.9108 - precision_m: 0.9280 - recall_m: 0.8949 - val_loss: 0.8262 - val_acc: 0.4126 - val_f1_m: 0.3789 - val_precision_m: 0.4126 - val_recall_m: 0.3519\n",
            "Epoch 14/15\n",
            "3111/3111 [==============================] - 117s 38ms/step - loss: 0.1419 - acc: 0.9177 - f1_m: 0.9171 - precision_m: 0.9325 - recall_m: 0.9027 - val_loss: 0.7455 - val_acc: 0.4783 - val_f1_m: 0.4432 - val_precision_m: 0.4849 - val_recall_m: 0.4100\n",
            "Epoch 15/15\n",
            "3111/3111 [==============================] - 119s 38ms/step - loss: 0.1329 - acc: 0.9227 - f1_m: 0.9215 - precision_m: 0.9366 - recall_m: 0.9075 - val_loss: 0.6135 - val_acc: 0.5938 - val_f1_m: 0.5656 - val_precision_m: 0.6138 - val_recall_m: 0.5265\n"
          ]
        }
      ]
    },
    {
      "cell_type": "code",
      "source": [
        "plt.plot(history.history['loss'])\n",
        "plt.plot(history.history['val_loss'])\n",
        "\n",
        "plt.title('model loss')\n",
        "plt.ylabel('loss')\n",
        "plt.xlabel('epoch')\n",
        "plt.legend(['train','val'], loc='upper left')\n",
        "plt.savefig(\"Model_loss.jpg\")\n",
        "\n",
        "plt.show()"
      ],
      "metadata": {
        "colab": {
          "base_uri": "https://localhost:8080/",
          "height": 295
        },
        "id": "94l-27bc2x7P",
        "outputId": "cd500e9c-7ca6-455a-f355-4d6cbaee2a11"
      },
      "execution_count": 80,
      "outputs": [
        {
          "output_type": "display_data",
          "data": {
            "text/plain": [
              "<Figure size 432x288 with 1 Axes>"
            ],
            "image/png": "[encoded data removed]"
          },
          "metadata": {
            "needs_background": "light"
          }
        }
      ]
    },
    {
      "cell_type": "code",
      "source": [
        "plt.plot(history.history['acc'])\n",
        "plt.plot(history.history['val_acc'])\n",
        "\n",
        "plt.title('model accuracy')\n",
        "plt.ylabel('accuracy')\n",
        "plt.xlabel('epoch')\n",
        "plt.legend(['train','val'], loc='upper left')\n",
        "plt.savefig(\"Model_Accuracy.jpg\")\n",
        "\n",
        "plt.show()\n",
        "\n"
      ],
      "metadata": {
        "id": "5e-CS9IW0aE3",
        "colab": {
          "base_uri": "https://localhost:8080/",
          "height": 295
        },
        "outputId": "c18a138d-b739-4710-c49f-f94abb24998d"
      },
      "execution_count": 81,
      "outputs": [
        {
          "output_type": "display_data",
          "data": {
            "text/plain": [
              "<Figure size 432x288 with 1 Axes>"
            ],
            "image/png": "[encoded data removed]"
          },
          "metadata": {
            "needs_background": "light"
          }
        }
      ]
    },
    {
      "cell_type": "code",
      "source": [
        "plt.plot(history.history['precision_m'])\n",
        "plt.plot(history.history['val_precision_m'])\n",
        "\n",
        "plt.title('model precision')\n",
        "plt.ylabel('precision')\n",
        "plt.xlabel('epoch')\n",
        "plt.legend(['train','val'], loc='upper left')\n",
        "plt.savefig(\"Model_Precision.jpg\")\n",
        "\n",
        "plt.show()\n"
      ],
      "metadata": {
        "id": "eP5FBKcy0klJ",
        "colab": {
          "base_uri": "https://localhost:8080/",
          "height": 295
        },
        "outputId": "005ab8ac-1d22-41bb-d4be-dc03d10410d2"
      },
      "execution_count": 82,
      "outputs": [
        {
          "output_type": "display_data",
          "data": {
            "text/plain": [
              "<Figure size 432x288 with 1 Axes>"
            ],
            "image/png": "[encoded data removed]"
          },
          "metadata": {
            "needs_background": "light"
          }
        }
      ]
    },
    {
      "cell_type": "code",
      "source": [
        "plt.plot(history.history['recall_m'])\n",
        "plt.plot(history.history['val_recall_m'])\n",
        "\n",
        "plt.title('model recall')\n",
        "plt.ylabel('recall')\n",
        "plt.xlabel('epoch')\n",
        "plt.legend(['train','val'], loc='upper left')\n",
        "plt.savefig(\"Model_Recall.jpg\")\n",
        "\n",
        "plt.show()\n"
      ],
      "metadata": {
        "id": "z1_u1SuF0pgO",
        "colab": {
          "base_uri": "https://localhost:8080/",
          "height": 295
        },
        "outputId": "374cccca-0e94-4a03-d9e1-7e4d588406bf"
      },
      "execution_count": 83,
      "outputs": [
        {
          "output_type": "display_data",
          "data": {
            "text/plain": [
              "<Figure size 432x288 with 1 Axes>"
            ],
            "image/png": "[encoded data removed]"
          },
          "metadata": {
            "needs_background": "light"
          }
        }
      ]
    },
    {
      "cell_type": "code",
      "source": [
        "plt.plot(history.history['f1_m'])\n",
        "plt.plot(history.history['val_f1_m'])\n",
        "\n",
        "plt.title('model F1')\n",
        "plt.ylabel('f1')\n",
        "plt.xlabel('epoch')\n",
        "plt.legend(['train','val'], loc='upper left')\n",
        "plt.savefig(\"Model_F1.jpg\")\n",
        "\n",
        "plt.show()\n"
      ],
      "metadata": {
        "id": "luGaGdpL0uLs",
        "colab": {
          "base_uri": "https://localhost:8080/",
          "height": 295
        },
        "outputId": "1e018e66-ef78-43bc-9d57-c91058d9f63a"
      },
      "execution_count": 84,
      "outputs": [
        {
          "output_type": "display_data",
          "data": {
            "text/plain": [
              "<Figure size 432x288 with 1 Axes>"
            ],
            "image/png": "[encoded data removed]"
          },
          "metadata": {
            "needs_background": "light"
          }
        }
      ]
    },
    {
      "cell_type": "code",
      "source": [
        "score_train = model.evaluate(X_ov[:,:20], y_ov, verbose=1)\n",
        "score_test = model.evaluate(X_test[:,:20], y_test, verbose=1)"
      ],
      "metadata": {
        "id": "k_INA6UE0xTR",
        "colab": {
          "base_uri": "https://localhost:8080/"
        },
        "outputId": "d423ffa2-12b4-4765-ba64-d51596d8a8a6"
      },
      "execution_count": 85,
      "outputs": [
        {
          "output_type": "stream",
          "name": "stdout",
          "text": [
            "4444/4444 [==============================] - 62s 14ms/step - loss: 0.2656 - acc: 0.8331 - f1_m: 0.8234 - precision_m: 0.8482 - recall_m: 0.8022\n",
            "719/719 [==============================] - 10s 13ms/step - loss: 0.3901 - acc: 0.8085 - f1_m: 0.8064 - precision_m: 0.8262 - recall_m: 0.7882\n"
          ]
        }
      ]
    },
    {
      "cell_type": "code",
      "source": [
        "score = pd.DataFrame({'Loss':[score_train[0],score_test[0]],\n",
        "             'Accuracy':[score_train[1],score_test[1]],\n",
        "             'Precision':[score_train[3],score_test[3]],\n",
        "             'Recall':[score_train[4],score_test[4]],\n",
        "             'F1-Score':[score_train[2],score_test[2]]\n",
        "                     },\n",
        "             index=['Train Score','Test Score'])\n",
        "\n",
        "score"
      ],
      "metadata": {
        "id": "uLms5tjK01Xz",
        "colab": {
          "base_uri": "https://localhost:8080/",
          "height": 112
        },
        "outputId": "7100bf07-990c-47f3-b1a1-5f750a5de9c8"
      },
      "execution_count": 86,
      "outputs": [
        {
          "output_type": "execute_result",
          "data": {
            "text/plain": [
              "                 Loss  Accuracy  Precision    Recall  F1-Score\n",
              "Train Score  0.265648  0.833052   0.848151  0.802158  0.823414\n",
              "Test Score   0.390132  0.808537   0.826176  0.788155  0.806356"
            ],
            "text/html": [
              "\n",
              "  <div id=\"df-104b06c7-7ad6-4eee-9ad2-5b0977d48d60\">\n",
              "    <div class=\"colab-df-container\">\n",
              "      <div>\n",
              "<style scoped>\n",
              "    .dataframe tbody tr th:only-of-type {\n",
              "        vertical-align: middle;\n",
              "    }\n",
              "\n",
              "    .dataframe tbody tr th {\n",
              "        vertical-align: top;\n",
              "    }\n",
              "\n",
              "    .dataframe thead th {\n",
              "        text-align: right;\n",
              "    }\n",
              "</style>\n",
              "<table border=\"1\" class=\"dataframe\">\n",
              "  <thead>\n",
              "    <tr style=\"text-align: right;\">\n",
              "      <th></th>\n",
              "      <th>Loss</th>\n",
              "      <th>Accuracy</th>\n",
              "      <th>Precision</th>\n",
              "      <th>Recall</th>\n",
              "      <th>F1-Score</th>\n",
              "    </tr>\n",
              "  </thead>\n",
              "  <tbody>\n",
              "    <tr>\n",
              "      <th>Train Score</th>\n",
              "      <td>0.265648</td>\n",
              "      <td>0.833052</td>\n",
              "      <td>0.848151</td>\n",
              "      <td>0.802158</td>\n",
              "      <td>0.823414</td>\n",
              "    </tr>\n",
              "    <tr>\n",
              "      <th>Test Score</th>\n",
              "      <td>0.390132</td>\n",
              "      <td>0.808537</td>\n",
              "      <td>0.826176</td>\n",
              "      <td>0.788155</td>\n",
              "      <td>0.806356</td>\n",
              "    </tr>\n",
              "  </tbody>\n",
              "</table>\n",
              "</div>\n",
              "      <button class=\"colab-df-convert\" onclick=\"convertToInteractive('df-104b06c7-7ad6-4eee-9ad2-5b0977d48d60')\"\n",
              "              title=\"Convert this dataframe to an interactive table.\"\n",
              "              style=\"display:none;\">\n",
              "        \n",
              "  <svg xmlns=\"http://www.w3.org/2000/svg\" height=\"24px\"viewBox=\"0 0 24 24\"\n",
              "       width=\"24px\">\n",
              "    <path d=\"M0 0h24v24H0V0z\" fill=\"none\"/>\n",
              "    <path d=\"M18.56 5.44l.94 2.06.94-2.06 2.06-.94-2.06-.94-.94-2.06-.94 2.06-2.06.94zm-11 1L8.5 8.5l.94-2.06 2.06-.94-2.06-.94L8.5 2.5l-.94 2.06-2.06.94zm10 10l.94 2.06.94-2.06 2.06-.94-2.06-.94-.94-2.06-.94 2.06-2.06.94z\"/><path d=\"M17.41 7.96l-1.37-1.37c-.4-.4-.92-.59-1.43-.59-.52 0-1.04.2-1.43.59L10.3 9.45l-7.72 7.72c-.78.78-.78 2.05 0 2.83L4 21.41c.39.39.9.59 1.41.59.51 0 1.02-.2 1.41-.59l7.78-7.78 2.81-2.81c.8-.78.8-2.07 0-2.86zM5.41 20L4 18.59l7.72-7.72 1.47 1.35L5.41 20z\"/>\n",
              "  </svg>\n",
              "      </button>\n",
              "      \n",
              "  <style>\n",
              "    .colab-df-container {\n",
              "      display:flex;\n",
              "      flex-wrap:wrap;\n",
              "      gap: 12px;\n",
              "    }\n",
              "\n",
              "    .colab-df-convert {\n",
              "      background-color: #E8F0FE;\n",
              "      border: none;\n",
              "      border-radius: 50%;\n",
              "      cursor: pointer;\n",
              "      display: none;\n",
              "      fill: #1967D2;\n",
              "      height: 32px;\n",
              "      padding: 0 0 0 0;\n",
              "      width: 32px;\n",
              "    }\n",
              "\n",
              "    .colab-df-convert:hover {\n",
              "      background-color: #E2EBFA;\n",
              "      box-shadow: 0px 1px 2px rgba(60, 64, 67, 0.3), 0px 1px 3px 1px rgba(60, 64, 67, 0.15);\n",
              "      fill: #174EA6;\n",
              "    }\n",
              "\n",
              "    [theme=dark] .colab-df-convert {\n",
              "      background-color: #3B4455;\n",
              "      fill: #D2E3FC;\n",
              "    }\n",
              "\n",
              "    [theme=dark] .colab-df-convert:hover {\n",
              "      background-color: #434B5C;\n",
              "      box-shadow: 0px 1px 3px 1px rgba(0, 0, 0, 0.15);\n",
              "      filter: drop-shadow(0px 1px 2px rgba(0, 0, 0, 0.3));\n",
              "      fill: #FFFFFF;\n",
              "    }\n",
              "  </style>\n",
              "\n",
              "      <script>\n",
              "        const buttonEl =\n",
              "          document.querySelector('#df-104b06c7-7ad6-4eee-9ad2-5b0977d48d60 button.colab-df-convert');\n",
              "        buttonEl.style.display =\n",
              "          google.colab.kernel.accessAllowed ? 'block' : 'none';\n",
              "\n",
              "        async function convertToInteractive(key) {\n",
              "          const element = document.querySelector('#df-104b06c7-7ad6-4eee-9ad2-5b0977d48d60');\n",
              "          const dataTable =\n",
              "            await google.colab.kernel.invokeFunction('convertToInteractive',\n",
              "                                                     [key], {});\n",
              "          if (!dataTable) return;\n",
              "\n",
              "          const docLinkHtml = 'Like what you see? Visit the ' +\n",
              "            '<a target=\"_blank\" href=https://colab.research.google.com/notebooks/data_table.ipynb>data table notebook</a>'\n",
              "            + ' to learn more about interactive tables.';\n",
              "          element.innerHTML = '';\n",
              "          dataTable['output_type'] = 'display_data';\n",
              "          await google.colab.output.renderOutput(dataTable, element);\n",
              "          const docLink = document.createElement('div');\n",
              "          docLink.innerHTML = docLinkHtml;\n",
              "          element.appendChild(docLink);\n",
              "        }\n",
              "      </script>\n",
              "    </div>\n",
              "  </div>\n",
              "  "
            ]
          },
          "metadata": {},
          "execution_count": 86
        }
      ]
    },
    {
      "cell_type": "code",
      "source": [
        "def sentiment_analysis(text, pipeline, model):\n",
        "    \n",
        "    # Applying the pipeline\n",
        "    if type(text) is not list:\n",
        "        text = [text]\n",
        "        text_prep = text_prep_pipeline.fit_transform(text)\n",
        "        text_prep = tokenizer.texts_to_sequences(text_prep)\n",
        "        matrix = pad_sequences(text_prep, padding='post', maxlen=20)\n",
        "        # Predicting sentiment\n",
        "        proba = model.predict(matrix)\n",
        "    \n",
        "    \n",
        "    # Plotting the sentiment and its score\n",
        "    fig, ax = plt.subplots(figsize=(5, 3))\n",
        "    \n",
        "    if proba.argmax() == 0 :\n",
        "        text = 'Negative'\n",
        "        class_proba = int(proba[0][0].round(2)*100)\n",
        "        color = 'Crimson'\n",
        "        \n",
        "    elif proba.argmax() == 1 :\n",
        "        text = 'Neutral'\n",
        "        class_proba = int(proba[0][1].round(2)*100) \n",
        "        color = 'Lightgrey'\n",
        "       \n",
        "    elif proba.argmax() == 2 :\n",
        "        text = 'Positive'\n",
        "        class_proba = int(proba[0][2].round(2)*100) \n",
        "        color = 'DeepSkyBlue'\n",
        "        \n",
        "    ax.text(0.5, 0.5, text, fontsize=50, ha='center', color=color)\n",
        "    ax.text(0.5, 0.20, str(class_proba) + '%', fontsize=14, ha='center')\n",
        "    ax.axis('off')\n",
        "    ax.set_title('Sentiment Analysis', fontsize=14)\n",
        "    plt.show()\n",
        "    "
      ],
      "metadata": {
        "id": "c0NZQ6jy0_tJ"
      },
      "execution_count": 87,
      "outputs": []
    },
    {
      "cell_type": "code",
      "source": [
        "#Positive\n",
        "\n",
        "comment = \"The prices are amazing and the shipping is really fast! Thank for everything amazon!\""
      ],
      "metadata": {
        "id": "zL7d7ax01ECa"
      },
      "execution_count": 88,
      "outputs": []
    },
    {
      "cell_type": "code",
      "source": [
        "sentiment_analysis(comment, pipeline=text_prep_pipeline,  model=model)"
      ],
      "metadata": {
        "id": "maPIxnMN1JSK",
        "colab": {
          "base_uri": "https://localhost:8080/",
          "height": 228
        },
        "outputId": "fc1f6a2a-d961-4f53-a417-f193d04b9f12"
      },
      "execution_count": 89,
      "outputs": [
        {
          "output_type": "stream",
          "name": "stdout",
          "text": [
            "1/1 [==============================] - 1s 554ms/step\n"
          ]
        },
        {
          "output_type": "display_data",
          "data": {
            "text/plain": [
              "<Figure size 360x216 with 1 Axes>"
            ],
            "image/png": "[encoded data removed]"
          },
          "metadata": {
            "needs_background": "light"
          }
        }
      ]
    },
    {
      "cell_type": "code",
      "source": [
        "#Positive\n",
        "\n",
        "comment1 = \"the delivery very good as compared to other. Thank for everything amazon!\""
      ],
      "metadata": {
        "id": "Nep_1KNNTTvM"
      },
      "execution_count": 90,
      "outputs": []
    },
    {
      "cell_type": "code",
      "source": [
        "sentiment_analysis(comment1, pipeline=text_prep_pipeline,  model=model)"
      ],
      "metadata": {
        "colab": {
          "base_uri": "https://localhost:8080/",
          "height": 228
        },
        "id": "el9jWk1CTT9y",
        "outputId": "63ced69b-2c04-4524-d284-0f409def16a0"
      },
      "execution_count": 91,
      "outputs": [
        {
          "output_type": "stream",
          "name": "stdout",
          "text": [
            "1/1 [==============================] - 0s 24ms/step\n"
          ]
        },
        {
          "output_type": "display_data",
          "data": {
            "text/plain": [
              "<Figure size 360x216 with 1 Axes>"
            ],
            "image/png": "[encoded data removed]"
          },
          "metadata": {
            "needs_background": "light"
          }
        }
      ]
    },
    {
      "cell_type": "code",
      "source": [
        "# Negative\n",
        "\n",
        "comment = \"I lost my money. I contact the custom service and they tell to wait receive item but not received yet\""
      ],
      "metadata": {
        "id": "Vmw_fNyD1L4P"
      },
      "execution_count": 92,
      "outputs": []
    },
    {
      "cell_type": "code",
      "source": [
        "sentiment_analysis(comment, pipeline=text_prep_pipeline, model=model)"
      ],
      "metadata": {
        "id": "knJVPBoy1PU-",
        "colab": {
          "base_uri": "https://localhost:8080/",
          "height": 228
        },
        "outputId": "78f29e15-8299-4d9d-8690-acef40211248"
      },
      "execution_count": 93,
      "outputs": [
        {
          "output_type": "stream",
          "name": "stdout",
          "text": [
            "1/1 [==============================] - 0s 21ms/step\n"
          ]
        },
        {
          "output_type": "display_data",
          "data": {
            "text/plain": [
              "<Figure size 360x216 with 1 Axes>"
            ],
            "image/png": "[encoded data removed]"
          },
          "metadata": {
            "needs_background": "light"
          }
        }
      ]
    },
    {
      "cell_type": "code",
      "source": [
        "# Neutral\n",
        "comment = \"Overall app is ok. But i really want some improvements in the next update.\""
      ],
      "metadata": {
        "id": "NQBD23W_1SHO"
      },
      "execution_count": 94,
      "outputs": []
    },
    {
      "cell_type": "code",
      "source": [
        "sentiment_analysis(text=comment, pipeline=text_prep_pipeline, model=model)"
      ],
      "metadata": {
        "id": "kL53Vl8z1ZxJ",
        "colab": {
          "base_uri": "https://localhost:8080/",
          "height": 228
        },
        "outputId": "614ac818-b6dc-4f5c-d50f-fb4fdadf8732"
      },
      "execution_count": 95,
      "outputs": [
        {
          "output_type": "stream",
          "name": "stdout",
          "text": [
            "1/1 [==============================] - 0s 23ms/step\n"
          ]
        },
        {
          "output_type": "display_data",
          "data": {
            "text/plain": [
              "<Figure size 360x216 with 1 Axes>"
            ],
            "image/png": "[encoded data removed]"
          },
          "metadata": {
            "needs_background": "light"
          }
        }
      ]
    },
    {
      "cell_type": "code",
      "source": [
        "comment_3 =\"stale app sadly support dark mode search poor show many irrelevant result order history shorten dig months complete history full history scroll helpful find items order see items purchase warranty filter year cannot remember year much difficult search less useful freeze sometimes december digdigdigdig improvements\""
      ],
      "metadata": {
        "id": "mri6Y2iVTBiD"
      },
      "execution_count": 96,
      "outputs": []
    },
    {
      "cell_type": "code",
      "source": [
        "sentiment_analysis(text=comment_3, pipeline=text_prep_pipeline, model=model)"
      ],
      "metadata": {
        "colab": {
          "base_uri": "https://localhost:8080/",
          "height": 228
        },
        "id": "-9JIeyOCcm4d",
        "outputId": "9e033d3d-ec22-473d-e9a1-fee1dd669a91"
      },
      "execution_count": 97,
      "outputs": [
        {
          "output_type": "stream",
          "name": "stdout",
          "text": [
            "1/1 [==============================] - 0s 25ms/step\n"
          ]
        },
        {
          "output_type": "display_data",
          "data": {
            "text/plain": [
              "<Figure size 360x216 with 1 Axes>"
            ],
            "image/png": "[encoded data removed]"
          },
          "metadata": {
            "needs_background": "light"
          }
        }
      ]
    },
    {
      "cell_type": "code",
      "source": [
        "df.head(200)"
      ],
      "metadata": {
        "colab": {
          "base_uri": "https://localhost:8080/",
          "height": 424
        },
        "id": "tYaszVK2cvWS",
        "outputId": "63ead988-48ba-4a7b-dd51-58509c5872ca"
      },
      "execution_count": 98,
      "outputs": [
        {
          "output_type": "execute_result",
          "data": {
            "text/plain": [
              "                                               reviews  sentiment_negative  \\\n",
              "0    n haver mind walk digdig miles nearest amazon ...                   1   \n",
              "1    amazon use place quick deliveries deal constan...                   1   \n",
              "2    since use app compare website pretty much good...                   0   \n",
              "3    difficult find look many unrelated result filt...                   1   \n",
              "4    stale app sadly support dark mode search poor ...                   1   \n",
              "..                                                 ...                 ...   \n",
              "195  nothe app work well except fact somehow even t...                   0   \n",
              "196  reason get app locker need access require use ...                   1   \n",
              "197  use app purchase items order history real shop...                   1   \n",
              "198  slow cumbersome ui hide important information ...                   1   \n",
              "199  app language change spanish iself change back ...                   1   \n",
              "\n",
              "     sentiment_neutral  sentiment_positive  \n",
              "0                    0                   0  \n",
              "1                    0                   0  \n",
              "2                    0                   1  \n",
              "3                    0                   0  \n",
              "4                    0                   0  \n",
              "..                 ...                 ...  \n",
              "195                  1                   0  \n",
              "196                  0                   0  \n",
              "197                  0                   0  \n",
              "198                  0                   0  \n",
              "199                  0                   0  \n",
              "\n",
              "[200 rows x 4 columns]"
            ],
            "text/html": [
              "\n",
              "  <div id=\"df-3689aa2d-a6b8-455a-a871-a5487b800b44\">\n",
              "    <div class=\"colab-df-container\">\n",
              "      <div>\n",
              "<style scoped>\n",
              "    .dataframe tbody tr th:only-of-type {\n",
              "        vertical-align: middle;\n",
              "    }\n",
              "\n",
              "    .dataframe tbody tr th {\n",
              "        vertical-align: top;\n",
              "    }\n",
              "\n",
              "    .dataframe thead th {\n",
              "        text-align: right;\n",
              "    }\n",
              "</style>\n",
              "<table border=\"1\" class=\"dataframe\">\n",
              "  <thead>\n",
              "    <tr style=\"text-align: right;\">\n",
              "      <th></th>\n",
              "      <th>reviews</th>\n",
              "      <th>sentiment_negative</th>\n",
              "      <th>sentiment_neutral</th>\n",
              "      <th>sentiment_positive</th>\n",
              "    </tr>\n",
              "  </thead>\n",
              "  <tbody>\n",
              "    <tr>\n",
              "      <th>0</th>\n",
              "      <td>n haver mind walk digdig miles nearest amazon ...</td>\n",
              "      <td>1</td>\n",
              "      <td>0</td>\n",
              "      <td>0</td>\n",
              "    </tr>\n",
              "    <tr>\n",
              "      <th>1</th>\n",
              "      <td>amazon use place quick deliveries deal constan...</td>\n",
              "      <td>1</td>\n",
              "      <td>0</td>\n",
              "      <td>0</td>\n",
              "    </tr>\n",
              "    <tr>\n",
              "      <th>2</th>\n",
              "      <td>since use app compare website pretty much good...</td>\n",
              "      <td>0</td>\n",
              "      <td>0</td>\n",
              "      <td>1</td>\n",
              "    </tr>\n",
              "    <tr>\n",
              "      <th>3</th>\n",
              "      <td>difficult find look many unrelated result filt...</td>\n",
              "      <td>1</td>\n",
              "      <td>0</td>\n",
              "      <td>0</td>\n",
              "    </tr>\n",
              "    <tr>\n",
              "      <th>4</th>\n",
              "      <td>stale app sadly support dark mode search poor ...</td>\n",
              "      <td>1</td>\n",
              "      <td>0</td>\n",
              "      <td>0</td>\n",
              "    </tr>\n",
              "    <tr>\n",
              "      <th>...</th>\n",
              "      <td>...</td>\n",
              "      <td>...</td>\n",
              "      <td>...</td>\n",
              "      <td>...</td>\n",
              "    </tr>\n",
              "    <tr>\n",
              "      <th>195</th>\n",
              "      <td>nothe app work well except fact somehow even t...</td>\n",
              "      <td>0</td>\n",
              "      <td>1</td>\n",
              "      <td>0</td>\n",
              "    </tr>\n",
              "    <tr>\n",
              "      <th>196</th>\n",
              "      <td>reason get app locker need access require use ...</td>\n",
              "      <td>1</td>\n",
              "      <td>0</td>\n",
              "      <td>0</td>\n",
              "    </tr>\n",
              "    <tr>\n",
              "      <th>197</th>\n",
              "      <td>use app purchase items order history real shop...</td>\n",
              "      <td>1</td>\n",
              "      <td>0</td>\n",
              "      <td>0</td>\n",
              "    </tr>\n",
              "    <tr>\n",
              "      <th>198</th>\n",
              "      <td>slow cumbersome ui hide important information ...</td>\n",
              "      <td>1</td>\n",
              "      <td>0</td>\n",
              "      <td>0</td>\n",
              "    </tr>\n",
              "    <tr>\n",
              "      <th>199</th>\n",
              "      <td>app language change spanish iself change back ...</td>\n",
              "      <td>1</td>\n",
              "      <td>0</td>\n",
              "      <td>0</td>\n",
              "    </tr>\n",
              "  </tbody>\n",
              "</table>\n",
              "<p>200 rows × 4 columns</p>\n",
              "</div>\n",
              "      <button class=\"colab-df-convert\" onclick=\"convertToInteractive('df-3689aa2d-a6b8-455a-a871-a5487b800b44')\"\n",
              "              title=\"Convert this dataframe to an interactive table.\"\n",
              "              style=\"display:none;\">\n",
              "        \n",
              "  <svg xmlns=\"http://www.w3.org/2000/svg\" height=\"24px\"viewBox=\"0 0 24 24\"\n",
              "       width=\"24px\">\n",
              "    <path d=\"M0 0h24v24H0V0z\" fill=\"none\"/>\n",
              "    <path d=\"M18.56 5.44l.94 2.06.94-2.06 2.06-.94-2.06-.94-.94-2.06-.94 2.06-2.06.94zm-11 1L8.5 8.5l.94-2.06 2.06-.94-2.06-.94L8.5 2.5l-.94 2.06-2.06.94zm10 10l.94 2.06.94-2.06 2.06-.94-2.06-.94-.94-2.06-.94 2.06-2.06.94z\"/><path d=\"M17.41 7.96l-1.37-1.37c-.4-.4-.92-.59-1.43-.59-.52 0-1.04.2-1.43.59L10.3 9.45l-7.72 7.72c-.78.78-.78 2.05 0 2.83L4 21.41c.39.39.9.59 1.41.59.51 0 1.02-.2 1.41-.59l7.78-7.78 2.81-2.81c.8-.78.8-2.07 0-2.86zM5.41 20L4 18.59l7.72-7.72 1.47 1.35L5.41 20z\"/>\n",
              "  </svg>\n",
              "      </button>\n",
              "      \n",
              "  <style>\n",
              "    .colab-df-container {\n",
              "      display:flex;\n",
              "      flex-wrap:wrap;\n",
              "      gap: 12px;\n",
              "    }\n",
              "\n",
              "    .colab-df-convert {\n",
              "      background-color: #E8F0FE;\n",
              "      border: none;\n",
              "      border-radius: 50%;\n",
              "      cursor: pointer;\n",
              "      display: none;\n",
              "      fill: #1967D2;\n",
              "      height: 32px;\n",
              "      padding: 0 0 0 0;\n",
              "      width: 32px;\n",
              "    }\n",
              "\n",
              "    .colab-df-convert:hover {\n",
              "      background-color: #E2EBFA;\n",
              "      box-shadow: 0px 1px 2px rgba(60, 64, 67, 0.3), 0px 1px 3px 1px rgba(60, 64, 67, 0.15);\n",
              "      fill: #174EA6;\n",
              "    }\n",
              "\n",
              "    [theme=dark] .colab-df-convert {\n",
              "      background-color: #3B4455;\n",
              "      fill: #D2E3FC;\n",
              "    }\n",
              "\n",
              "    [theme=dark] .colab-df-convert:hover {\n",
              "      background-color: #434B5C;\n",
              "      box-shadow: 0px 1px 3px 1px rgba(0, 0, 0, 0.15);\n",
              "      filter: drop-shadow(0px 1px 2px rgba(0, 0, 0, 0.3));\n",
              "      fill: #FFFFFF;\n",
              "    }\n",
              "  </style>\n",
              "\n",
              "      <script>\n",
              "        const buttonEl =\n",
              "          document.querySelector('#df-3689aa2d-a6b8-455a-a871-a5487b800b44 button.colab-df-convert');\n",
              "        buttonEl.style.display =\n",
              "          google.colab.kernel.accessAllowed ? 'block' : 'none';\n",
              "\n",
              "        async function convertToInteractive(key) {\n",
              "          const element = document.querySelector('#df-3689aa2d-a6b8-455a-a871-a5487b800b44');\n",
              "          const dataTable =\n",
              "            await google.colab.kernel.invokeFunction('convertToInteractive',\n",
              "                                                     [key], {});\n",
              "          if (!dataTable) return;\n",
              "\n",
              "          const docLinkHtml = 'Like what you see? Visit the ' +\n",
              "            '<a target=\"_blank\" href=https://colab.research.google.com/notebooks/data_table.ipynb>data table notebook</a>'\n",
              "            + ' to learn more about interactive tables.';\n",
              "          element.innerHTML = '';\n",
              "          dataTable['output_type'] = 'display_data';\n",
              "          await google.colab.output.renderOutput(dataTable, element);\n",
              "          const docLink = document.createElement('div');\n",
              "          docLink.innerHTML = docLinkHtml;\n",
              "          element.appendChild(docLink);\n",
              "        }\n",
              "      </script>\n",
              "    </div>\n",
              "  </div>\n",
              "  "
            ]
          },
          "metadata": {},
          "execution_count": 98
        }
      ]
    },
    {
      "cell_type": "code",
      "source": [
        "comment_4 =\"\tnew update make worse could see item ship look order click individual order see ship status also items deliver use highlight different color go top list order randomly black green particular reason list date order process items appear already deliver\""
      ],
      "metadata": {
        "id": "WcnZ8kHpc1qR"
      },
      "execution_count": 99,
      "outputs": []
    },
    {
      "cell_type": "code",
      "source": [
        "sentiment_analysis(text=comment_4, pipeline=text_prep_pipeline, model=model)"
      ],
      "metadata": {
        "colab": {
          "base_uri": "https://localhost:8080/",
          "height": 228
        },
        "id": "8PyJGGn8c9Ol",
        "outputId": "bc194e81-8290-4d11-f21b-fb9196526f35"
      },
      "execution_count": 100,
      "outputs": [
        {
          "output_type": "stream",
          "name": "stdout",
          "text": [
            "1/1 [==============================] - 0s 22ms/step\n"
          ]
        },
        {
          "output_type": "display_data",
          "data": {
            "text/plain": [
              "<Figure size 360x216 with 1 Axes>"
            ],
            "image/png": "[encoded data removed]"
          },
          "metadata": {
            "needs_background": "light"
          }
        }
      ]
    },
    {
      "cell_type": "code",
      "source": [
        "comment_5 = \"love amazon prime amazon sell everything recently open depot near mean deliver products lot better third party never problem amazon\t\""
      ],
      "metadata": {
        "id": "sAOBdEsfdDlP"
      },
      "execution_count": 101,
      "outputs": []
    },
    {
      "cell_type": "code",
      "source": [
        "sentiment_analysis(text=comment_5, pipeline=text_prep_pipeline, model=model)"
      ],
      "metadata": {
        "id": "cCsO0Vo_dPjC"
      },
      "execution_count": null,
      "outputs": []
    },
    {
      "cell_type": "code",
      "source": [
        "comment_6 = \"i love amazon product ,the service of amazon delivery is very good\""
      ],
      "metadata": {
        "id": "F5QnsGXCdSkb"
      },
      "execution_count": null,
      "outputs": []
    },
    {
      "cell_type": "code",
      "source": [
        "sentiment_analysis(text=comment_6, pipeline=text_prep_pipeline, model=model)"
      ],
      "metadata": {
        "id": "ngHOwyVieBBQ"
      },
      "execution_count": null,
      "outputs": []
    },
    {
      "cell_type": "code",
      "source": [
        "comment_7 = \"the product which i get not as much good so i can cancelled the ordered\""
      ],
      "metadata": {
        "id": "IopvO4qZeEWg"
      },
      "execution_count": null,
      "outputs": []
    },
    {
      "cell_type": "code",
      "source": [
        "sentiment_analysis(text=comment_7, pipeline=text_prep_pipeline, model=model)"
      ],
      "metadata": {
        "id": "LkbDpHZxeYGP"
      },
      "execution_count": null,
      "outputs": []
    },
    {
      "cell_type": "code",
      "source": [
        "comment_8 = \"last friday buy clean supply less digdig hours item ship get random message reason item return seller clean supple make state without even explanation today tuesday im still wait money back never shop amazon neither wife\t\""
      ],
      "metadata": {
        "id": "vAxWnqqwedWY"
      },
      "execution_count": null,
      "outputs": []
    },
    {
      "cell_type": "code",
      "source": [
        "sentiment_analysis(text=comment_8, pipeline=text_prep_pipeline, model=model)"
      ],
      "metadata": {
        "id": "LjcJ2S7eelQb"
      },
      "execution_count": null,
      "outputs": []
    },
    {
      "cell_type": "code",
      "source": [
        "comment_9 = \"find almost anything want need price sometimes better w vendor problems usually resolve amazon asap amazon good delvery date options dig rebate prime card want buy item alexa refund exchange easy get esp prime card amazon help vendor always get refund items replace use card amazon fresh imo amazon may best source everybody complaints\t\""
      ],
      "metadata": {
        "id": "RExLAJ-EeoQz"
      },
      "execution_count": null,
      "outputs": []
    },
    {
      "cell_type": "code",
      "source": [
        "sentiment_analysis(text=comment_9, pipeline=text_prep_pipeline, model=model)"
      ],
      "metadata": {
        "id": "T9eG25Oie31C"
      },
      "execution_count": null,
      "outputs": []
    },
    {
      "cell_type": "code",
      "source": [
        "comment_10 = \"Delivery Delayed by three Days\""
      ],
      "metadata": {
        "id": "7xN2oaafe6sz"
      },
      "execution_count": null,
      "outputs": []
    },
    {
      "cell_type": "code",
      "source": [
        "sentiment_analysis(text=comment_10, pipeline=text_prep_pipeline, model=model)"
      ],
      "metadata": {
        "id": "qevCMnE7XWug"
      },
      "execution_count": null,
      "outputs": []
    },
    {
      "cell_type": "code",
      "source": [
        "comment_11 = \"Service are very good\""
      ],
      "metadata": {
        "id": "4wyG2xHBXdND"
      },
      "execution_count": null,
      "outputs": []
    },
    {
      "cell_type": "code",
      "source": [
        "sentiment_analysis(text=comment_11, pipeline=text_prep_pipeline, model=model)"
      ],
      "metadata": {
        "id": "NCXVrOipXm5O"
      },
      "execution_count": null,
      "outputs": []
    },
    {
      "cell_type": "code",
      "source": [
        "comment_12 = \"Service is Average  but improve your Product Services\""
      ],
      "metadata": {
        "id": "556Dq1icXp4r"
      },
      "execution_count": null,
      "outputs": []
    },
    {
      "cell_type": "code",
      "source": [
        "sentiment_analysis(text=comment_12, pipeline=text_prep_pipeline, model=model)"
      ],
      "metadata": {
        "id": "1dZPHftsX8ik"
      },
      "execution_count": null,
      "outputs": []
    },
    {
      "cell_type": "code",
      "source": [
        "comment_13 =\"Found 20 empty capsules and 16 half filled capsules in the bottle. Opened lil late so not able to return.\""
      ],
      "metadata": {
        "id": "GydiLx0OX_eg"
      },
      "execution_count": null,
      "outputs": []
    },
    {
      "cell_type": "code",
      "source": [
        "sentiment_analysis(text=comment_13, pipeline=text_prep_pipeline, model=model)"
      ],
      "metadata": {
        "id": "BsqhiZIEYoaB"
      },
      "execution_count": null,
      "outputs": []
    },
    {
      "cell_type": "code",
      "source": [
        "comment_14 = \"I have been ordering this for three years now and am satisfied with the quality of the Spirulina and the price of course is the best I have seen in the market\""
      ],
      "metadata": {
        "id": "_MeS_1UAYrdg"
      },
      "execution_count": null,
      "outputs": []
    },
    {
      "cell_type": "code",
      "source": [
        "sentiment_analysis(text=comment_14, pipeline=text_prep_pipeline, model=model)"
      ],
      "metadata": {
        "id": "eViW04QwY0lX"
      },
      "execution_count": null,
      "outputs": []
    },
    {
      "cell_type": "code",
      "source": [
        "comment_15 = \"I've been looking for this, and was considering building something similar myself, but I'm happy to see it executed so beautifully. Amazon shopping will never be the same and I'm excited to see where this goes. Maybe one day we'll see a pollution price tag on every product.\""
      ],
      "metadata": {
        "id": "C7PrXL2kZAf0"
      },
      "execution_count": null,
      "outputs": []
    },
    {
      "cell_type": "code",
      "source": [
        "sentiment_analysis(text=comment_15, pipeline=text_prep_pipeline, model=model)"
      ],
      "metadata": {
        "id": "IuzGwCpbZJRT"
      },
      "execution_count": null,
      "outputs": []
    },
    {
      "cell_type": "code",
      "source": [
        "comment_16 =\"Tablets are not of good quality. light green in color and no spirulina smell. where the good quality once are in dark green color and give a different smell\""
      ],
      "metadata": {
        "id": "VuDpaq4JZN4X"
      },
      "execution_count": null,
      "outputs": []
    },
    {
      "cell_type": "code",
      "source": [
        "sentiment_analysis(text=comment_16, pipeline=text_prep_pipeline, model=model)"
      ],
      "metadata": {
        "id": "1pGLDnhjZp-I"
      },
      "execution_count": null,
      "outputs": []
    },
    {
      "cell_type": "code",
      "source": [
        "comment_17 =\"improvement required in service department\""
      ],
      "metadata": {
        "id": "1Ygn6Tq3Zvmj"
      },
      "execution_count": null,
      "outputs": []
    },
    {
      "cell_type": "code",
      "source": [
        "sentiment_analysis(text=comment_17, pipeline=text_prep_pipeline, model=model)"
      ],
      "metadata": {
        "id": "6dnWOWtmJjXW"
      },
      "execution_count": null,
      "outputs": []
    },
    {
      "cell_type": "code",
      "source": [
        "comment_18 =\"My Experience so far has benn Fantastic \""
      ],
      "metadata": {
        "id": "OsR8Qb5AJmAp"
      },
      "execution_count": null,
      "outputs": []
    },
    {
      "cell_type": "code",
      "source": [
        "sentiment_analysis(text=comment_18, pipeline=text_prep_pipeline, model=model)"
      ],
      "metadata": {
        "id": "fH0WCU--acKc"
      },
      "execution_count": null,
      "outputs": []
    },
    {
      "cell_type": "code",
      "source": [
        "comment_19 =\"the product is ok i guess but it required some improvement\""
      ],
      "metadata": {
        "id": "82Qazs-2aeMJ"
      },
      "execution_count": null,
      "outputs": []
    },
    {
      "cell_type": "code",
      "source": [
        "sentiment_analysis(text=comment_19, pipeline=text_prep_pipeline, model=model)"
      ],
      "metadata": {
        "id": "I5aeosz4ame3"
      },
      "execution_count": null,
      "outputs": []
    },
    {
      "cell_type": "code",
      "source": [
        "comment_20 = \"Your support team is useless\""
      ],
      "metadata": {
        "id": "WEIrOLrnapqw"
      },
      "execution_count": null,
      "outputs": []
    },
    {
      "cell_type": "code",
      "source": [
        "sentiment_analysis(text=comment_20, pipeline=text_prep_pipeline, model=model)"
      ],
      "metadata": {
        "id": "aSFKrT3-bXj-"
      },
      "execution_count": null,
      "outputs": []
    },
    {
      "cell_type": "code",
      "source": [
        "comment_21 =\"the product is useless\""
      ],
      "metadata": {
        "id": "UWU9Qo1xbaVD"
      },
      "execution_count": 102,
      "outputs": []
    },
    {
      "cell_type": "code",
      "source": [
        "sentiment_analysis(text=comment_21, pipeline=text_prep_pipeline, model=model)"
      ],
      "metadata": {
        "colab": {
          "base_uri": "https://localhost:8080/",
          "height": 228
        },
        "id": "bUvcLqnVNj4g",
        "outputId": "8e46677a-71f7-4943-99e7-2b3a141ad1f0"
      },
      "execution_count": 103,
      "outputs": [
        {
          "output_type": "stream",
          "name": "stdout",
          "text": [
            "1/1 [==============================] - 0s 31ms/step\n"
          ]
        },
        {
          "output_type": "display_data",
          "data": {
            "text/plain": [
              "<Figure size 360x216 with 1 Axes>"
            ],
            "image/png": "[encoded data removed]"
          },
          "metadata": {
            "needs_background": "light"
          }
        }
      ]
    },
    {
      "cell_type": "code",
      "source": [
        "comment_22=\"the product is very neither good , bad\""
      ],
      "metadata": {
        "id": "a0kr6U-1Nnel"
      },
      "execution_count": 114,
      "outputs": []
    },
    {
      "cell_type": "code",
      "source": [
        "sentiment_analysis(text=comment_22, pipeline=text_prep_pipeline, model=model)"
      ],
      "metadata": {
        "colab": {
          "base_uri": "https://localhost:8080/",
          "height": 228
        },
        "id": "TNnRdw8HN1Ow",
        "outputId": "78ddbaee-2099-4751-ae22-07d1e2bf948d"
      },
      "execution_count": 115,
      "outputs": [
        {
          "output_type": "stream",
          "name": "stdout",
          "text": [
            "1/1 [==============================] - 0s 18ms/step\n"
          ]
        },
        {
          "output_type": "display_data",
          "data": {
            "text/plain": [
              "<Figure size 360x216 with 1 Axes>"
            ],
            "image/png": "[encoded data removed]"
          },
          "metadata": {
            "needs_background": "light"
          }
        }
      ]
    },
    {
      "cell_type": "code",
      "source": [],
      "metadata": {
        "id": "PnoGr2WcN26c"
      },
      "execution_count": null,
      "outputs": []
    }
  ]
}